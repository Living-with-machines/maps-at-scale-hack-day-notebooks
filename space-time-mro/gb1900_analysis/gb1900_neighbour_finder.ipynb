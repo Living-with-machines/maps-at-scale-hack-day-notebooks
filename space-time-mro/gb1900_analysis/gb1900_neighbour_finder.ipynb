{
 "cells": [
  {
   "cell_type": "markdown",
   "metadata": {},
   "source": [
    "# GB1900, find neighbours using KD-tree"
   ]
  },
  {
   "cell_type": "code",
   "execution_count": 1,
   "metadata": {},
   "outputs": [],
   "source": [
    "# %matplotlib notebook "
   ]
  },
  {
   "cell_type": "markdown",
   "metadata": {},
   "source": [
    "## Read the Gazetteer (gb1900_gazetteer_complete_july_2018.csv)"
   ]
  },
  {
   "cell_type": "code",
   "execution_count": 2,
   "metadata": {},
   "outputs": [],
   "source": [
    "import numpy as np\n",
    "import pandas as pd\n",
    "import pyproj\n",
    "from scipy import spatial"
   ]
  },
  {
   "cell_type": "code",
   "execution_count": 3,
   "metadata": {},
   "outputs": [
    {
     "name": "stderr",
     "output_type": "stream",
     "text": [
      "/Users/khosseini/anaconda3/envs/py37torch/lib/python3.6/site-packages/IPython/core/interactiveshell.py:3057: DtypeWarning: Columns (9) have mixed types. Specify dtype option on import or set low_memory=False.\n",
      "  interactivity=interactivity, compiler=compiler, result=result)\n"
     ]
    }
   ],
   "source": [
    "with open(\"./gb1900_gazetteer_complete_july_2018.csv\", encoding='UTF-16') as f:\n",
    "    df = pd.read_csv(f)"
   ]
  },
  {
   "cell_type": "code",
   "execution_count": 4,
   "metadata": {},
   "outputs": [
    {
     "name": "stdout",
     "output_type": "stream",
     "text": [
      "#items:  2552459\n"
     ]
    },
    {
     "data": {
      "text/html": [
       "<div>\n",
       "<style scoped>\n",
       "    .dataframe tbody tr th:only-of-type {\n",
       "        vertical-align: middle;\n",
       "    }\n",
       "\n",
       "    .dataframe tbody tr th {\n",
       "        vertical-align: top;\n",
       "    }\n",
       "\n",
       "    .dataframe thead th {\n",
       "        text-align: right;\n",
       "    }\n",
       "</style>\n",
       "<table border=\"1\" class=\"dataframe\">\n",
       "  <thead>\n",
       "    <tr style=\"text-align: right;\">\n",
       "      <th></th>\n",
       "      <th>pin_id</th>\n",
       "      <th>final_text</th>\n",
       "      <th>nation</th>\n",
       "      <th>local_authority</th>\n",
       "      <th>parish</th>\n",
       "      <th>osgb_east</th>\n",
       "      <th>osgb_north</th>\n",
       "      <th>latitude</th>\n",
       "      <th>longitude</th>\n",
       "      <th>notes</th>\n",
       "    </tr>\n",
       "  </thead>\n",
       "  <tbody>\n",
       "    <tr>\n",
       "      <td>0</td>\n",
       "      <td>52b34d8b695fe90005004e1e</td>\n",
       "      <td>F. P.</td>\n",
       "      <td>Wales</td>\n",
       "      <td>Powys</td>\n",
       "      <td>Llansilin</td>\n",
       "      <td>320836.712742</td>\n",
       "      <td>327820.182715</td>\n",
       "      <td>52.842050</td>\n",
       "      <td>-3.176744</td>\n",
       "      <td>NaN</td>\n",
       "    </tr>\n",
       "    <tr>\n",
       "      <td>1</td>\n",
       "      <td>5800a6b92c66dcab3d061796</td>\n",
       "      <td>Parly. &amp; Munl Boro. By.</td>\n",
       "      <td>England</td>\n",
       "      <td>City of London</td>\n",
       "      <td>NaN</td>\n",
       "      <td>531794.825962</td>\n",
       "      <td>180705.741898</td>\n",
       "      <td>51.509918</td>\n",
       "      <td>-0.102246</td>\n",
       "      <td>NaN</td>\n",
       "    </tr>\n",
       "    <tr>\n",
       "      <td>2</td>\n",
       "      <td>5800a6782c66dcab3d061786</td>\n",
       "      <td>S. Ps.</td>\n",
       "      <td>England</td>\n",
       "      <td>City of London</td>\n",
       "      <td>NaN</td>\n",
       "      <td>531736.217116</td>\n",
       "      <td>180725.027730</td>\n",
       "      <td>51.510105</td>\n",
       "      <td>-0.103083</td>\n",
       "      <td>NaN</td>\n",
       "    </tr>\n",
       "    <tr>\n",
       "      <td>3</td>\n",
       "      <td>57f684f42c66dcab3d01c0dd</td>\n",
       "      <td>Southwark Bridge Stairs</td>\n",
       "      <td>England</td>\n",
       "      <td>City of London</td>\n",
       "      <td>NaN</td>\n",
       "      <td>532199.584123</td>\n",
       "      <td>180696.934434</td>\n",
       "      <td>51.509744</td>\n",
       "      <td>-0.096420</td>\n",
       "      <td>NaN</td>\n",
       "    </tr>\n",
       "    <tr>\n",
       "      <td>4</td>\n",
       "      <td>57f685002c66dcab3d01c0e9</td>\n",
       "      <td>St. Paul's Pier</td>\n",
       "      <td>England</td>\n",
       "      <td>City of London</td>\n",
       "      <td>NaN</td>\n",
       "      <td>531987.486097</td>\n",
       "      <td>180745.664556</td>\n",
       "      <td>51.510232</td>\n",
       "      <td>-0.099456</td>\n",
       "      <td>NaN</td>\n",
       "    </tr>\n",
       "  </tbody>\n",
       "</table>\n",
       "</div>"
      ],
      "text/plain": [
       "                     pin_id               final_text   nation local_authority  \\\n",
       "0  52b34d8b695fe90005004e1e                    F. P.    Wales           Powys   \n",
       "1  5800a6b92c66dcab3d061796  Parly. & Munl Boro. By.  England  City of London   \n",
       "2  5800a6782c66dcab3d061786                   S. Ps.  England  City of London   \n",
       "3  57f684f42c66dcab3d01c0dd  Southwark Bridge Stairs  England  City of London   \n",
       "4  57f685002c66dcab3d01c0e9          St. Paul's Pier  England  City of London   \n",
       "\n",
       "      parish      osgb_east     osgb_north   latitude  longitude notes  \n",
       "0  Llansilin  320836.712742  327820.182715  52.842050  -3.176744   NaN  \n",
       "1        NaN  531794.825962  180705.741898  51.509918  -0.102246   NaN  \n",
       "2        NaN  531736.217116  180725.027730  51.510105  -0.103083   NaN  \n",
       "3        NaN  532199.584123  180696.934434  51.509744  -0.096420   NaN  \n",
       "4        NaN  531987.486097  180745.664556  51.510232  -0.099456   NaN  "
      ]
     },
     "execution_count": 4,
     "metadata": {},
     "output_type": "execute_result"
    }
   ],
   "source": [
    "print(\"#items: \", len(df))\n",
    "df.head()"
   ]
  },
  {
   "cell_type": "markdown",
   "metadata": {},
   "source": [
    "## Convert lat lon to xyz"
   ]
  },
  {
   "cell_type": "code",
   "execution_count": 5,
   "metadata": {},
   "outputs": [],
   "source": [
    "ecef = pyproj.Proj(proj='geocent', ellps='WGS84', datum='WGS84')\n",
    "lla = pyproj.Proj(proj='latlong', ellps='WGS84', datum='WGS84')\n",
    "x, y, z = pyproj.transform(lla, ecef, \n",
    "                           df[\"longitude\"].to_numpy(), \n",
    "                           df[\"latitude\"].to_numpy(), \n",
    "                           np.zeros(len(df[\"latitude\"])), \n",
    "                           radians=False)"
   ]
  },
  {
   "cell_type": "code",
   "execution_count": 6,
   "metadata": {},
   "outputs": [],
   "source": [
    "# add x, y, z to df\n",
    "df[\"x\"] = x\n",
    "df[\"y\"] = y\n",
    "df[\"z\"] = z"
   ]
  },
  {
   "cell_type": "code",
   "execution_count": 7,
   "metadata": {},
   "outputs": [
    {
     "data": {
      "text/html": [
       "<div>\n",
       "<style scoped>\n",
       "    .dataframe tbody tr th:only-of-type {\n",
       "        vertical-align: middle;\n",
       "    }\n",
       "\n",
       "    .dataframe tbody tr th {\n",
       "        vertical-align: top;\n",
       "    }\n",
       "\n",
       "    .dataframe thead th {\n",
       "        text-align: right;\n",
       "    }\n",
       "</style>\n",
       "<table border=\"1\" class=\"dataframe\">\n",
       "  <thead>\n",
       "    <tr style=\"text-align: right;\">\n",
       "      <th></th>\n",
       "      <th>pin_id</th>\n",
       "      <th>final_text</th>\n",
       "      <th>nation</th>\n",
       "      <th>local_authority</th>\n",
       "      <th>parish</th>\n",
       "      <th>osgb_east</th>\n",
       "      <th>osgb_north</th>\n",
       "      <th>latitude</th>\n",
       "      <th>longitude</th>\n",
       "      <th>notes</th>\n",
       "      <th>x</th>\n",
       "      <th>y</th>\n",
       "      <th>z</th>\n",
       "    </tr>\n",
       "  </thead>\n",
       "  <tbody>\n",
       "    <tr>\n",
       "      <td>0</td>\n",
       "      <td>52b34d8b695fe90005004e1e</td>\n",
       "      <td>F. P.</td>\n",
       "      <td>Wales</td>\n",
       "      <td>Powys</td>\n",
       "      <td>Llansilin</td>\n",
       "      <td>320836.712742</td>\n",
       "      <td>327820.182715</td>\n",
       "      <td>52.842050</td>\n",
       "      <td>-3.176744</td>\n",
       "      <td>NaN</td>\n",
       "      <td>3.854770e+06</td>\n",
       "      <td>-213945.645048</td>\n",
       "      <td>5.059946e+06</td>\n",
       "    </tr>\n",
       "    <tr>\n",
       "      <td>1</td>\n",
       "      <td>5800a6b92c66dcab3d061796</td>\n",
       "      <td>Parly. &amp; Munl Boro. By.</td>\n",
       "      <td>England</td>\n",
       "      <td>City of London</td>\n",
       "      <td>NaN</td>\n",
       "      <td>531794.825962</td>\n",
       "      <td>180705.741898</td>\n",
       "      <td>51.509918</td>\n",
       "      <td>-0.102246</td>\n",
       "      <td>NaN</td>\n",
       "      <td>3.977779e+06</td>\n",
       "      <td>-7098.456811</td>\n",
       "      <td>4.969049e+06</td>\n",
       "    </tr>\n",
       "    <tr>\n",
       "      <td>2</td>\n",
       "      <td>5800a6782c66dcab3d061786</td>\n",
       "      <td>S. Ps.</td>\n",
       "      <td>England</td>\n",
       "      <td>City of London</td>\n",
       "      <td>NaN</td>\n",
       "      <td>531736.217116</td>\n",
       "      <td>180725.027730</td>\n",
       "      <td>51.510105</td>\n",
       "      <td>-0.103083</td>\n",
       "      <td>NaN</td>\n",
       "      <td>3.977762e+06</td>\n",
       "      <td>-7156.526053</td>\n",
       "      <td>4.969062e+06</td>\n",
       "    </tr>\n",
       "    <tr>\n",
       "      <td>3</td>\n",
       "      <td>57f684f42c66dcab3d01c0dd</td>\n",
       "      <td>Southwark Bridge Stairs</td>\n",
       "      <td>England</td>\n",
       "      <td>City of London</td>\n",
       "      <td>NaN</td>\n",
       "      <td>532199.584123</td>\n",
       "      <td>180696.934434</td>\n",
       "      <td>51.509744</td>\n",
       "      <td>-0.096420</td>\n",
       "      <td>NaN</td>\n",
       "      <td>3.977794e+06</td>\n",
       "      <td>-6694.027028</td>\n",
       "      <td>4.969037e+06</td>\n",
       "    </tr>\n",
       "    <tr>\n",
       "      <td>4</td>\n",
       "      <td>57f685002c66dcab3d01c0e9</td>\n",
       "      <td>St. Paul's Pier</td>\n",
       "      <td>England</td>\n",
       "      <td>City of London</td>\n",
       "      <td>NaN</td>\n",
       "      <td>531987.486097</td>\n",
       "      <td>180745.664556</td>\n",
       "      <td>51.510232</td>\n",
       "      <td>-0.099456</td>\n",
       "      <td>NaN</td>\n",
       "      <td>3.977752e+06</td>\n",
       "      <td>-6904.747577</td>\n",
       "      <td>4.969071e+06</td>\n",
       "    </tr>\n",
       "  </tbody>\n",
       "</table>\n",
       "</div>"
      ],
      "text/plain": [
       "                     pin_id               final_text   nation local_authority  \\\n",
       "0  52b34d8b695fe90005004e1e                    F. P.    Wales           Powys   \n",
       "1  5800a6b92c66dcab3d061796  Parly. & Munl Boro. By.  England  City of London   \n",
       "2  5800a6782c66dcab3d061786                   S. Ps.  England  City of London   \n",
       "3  57f684f42c66dcab3d01c0dd  Southwark Bridge Stairs  England  City of London   \n",
       "4  57f685002c66dcab3d01c0e9          St. Paul's Pier  England  City of London   \n",
       "\n",
       "      parish      osgb_east     osgb_north   latitude  longitude notes  \\\n",
       "0  Llansilin  320836.712742  327820.182715  52.842050  -3.176744   NaN   \n",
       "1        NaN  531794.825962  180705.741898  51.509918  -0.102246   NaN   \n",
       "2        NaN  531736.217116  180725.027730  51.510105  -0.103083   NaN   \n",
       "3        NaN  532199.584123  180696.934434  51.509744  -0.096420   NaN   \n",
       "4        NaN  531987.486097  180745.664556  51.510232  -0.099456   NaN   \n",
       "\n",
       "              x              y             z  \n",
       "0  3.854770e+06 -213945.645048  5.059946e+06  \n",
       "1  3.977779e+06   -7098.456811  4.969049e+06  \n",
       "2  3.977762e+06   -7156.526053  4.969062e+06  \n",
       "3  3.977794e+06   -6694.027028  4.969037e+06  \n",
       "4  3.977752e+06   -6904.747577  4.969071e+06  "
      ]
     },
     "execution_count": 7,
     "metadata": {},
     "output_type": "execute_result"
    }
   ],
   "source": [
    "df.head()"
   ]
  },
  {
   "cell_type": "code",
   "execution_count": 8,
   "metadata": {},
   "outputs": [
    {
     "data": {
      "text/plain": [
       "'\\n# Only if you want to make sure that the units are in meters:\\nxyz_arr = df[[\"x\", \"y\", \"z\"]].to_numpy()\\nnp.sqrt(xyz_arr[:, 0]**2 + xyz_arr[:, 1]**2 + xyz_arr[:, 2]**2)[0]\\n'"
      ]
     },
     "execution_count": 8,
     "metadata": {},
     "output_type": "execute_result"
    }
   ],
   "source": [
    "\"\"\"\n",
    "# Only if you want to make sure that the units are in meters:\n",
    "xyz_arr = df[[\"x\", \"y\", \"z\"]].to_numpy()\n",
    "np.sqrt(xyz_arr[:, 0]**2 + xyz_arr[:, 1]**2 + xyz_arr[:, 2]**2)[0]\n",
    "\"\"\""
   ]
  },
  {
   "cell_type": "markdown",
   "metadata": {},
   "source": [
    "## Create KD-tree"
   ]
  },
  {
   "cell_type": "code",
   "execution_count": 9,
   "metadata": {},
   "outputs": [],
   "source": [
    "kdtree = spatial.cKDTree(df[[\"x\", \"y\", \"z\"]].to_numpy())"
   ]
  },
  {
   "cell_type": "code",
   "execution_count": 10,
   "metadata": {},
   "outputs": [
    {
     "name": "stdout",
     "output_type": "stream",
     "text": [
      "[[   0.          174.66294676  176.22419747 ... 1467.04769594\n",
      "  1475.01279324 1490.72457565]\n",
      " [   0.           61.71014601   88.89388984 ...  765.7825225\n",
      "   768.5968675   771.5126272 ]\n",
      " [   0.           61.71014601   95.19482027 ...  775.96427984\n",
      "   778.49704072  779.57903563]\n",
      " ...\n",
      " [   0.          110.71863547  113.98883537 ...  759.10832524\n",
      "   761.17554328  765.41077381]\n",
      " [   0.           38.35726828   88.52599591 ...  750.99274305\n",
      "   758.78585747  758.90171996]\n",
      " [   0.          130.66335393  143.24452054 ... 1577.45582711\n",
      "  1605.83045084 1611.57474683]]\n",
      "[[      0  439055     218 ...  625921  420577  444417]\n",
      " [      1       2     103 ...  337015     110  336682]\n",
      " [      2       1  336420 ...  336697  336404  336433]\n",
      " ...\n",
      " [2552456 2552455      89 ...  336770  333857  333851]\n",
      " [2552457  336131  336139 ...  339735  336774  338783]\n",
      " [2552458 1083551 2552400 ...  439054  445636  419720]]\n"
     ]
    }
   ],
   "source": [
    "num_neighbors = 101\n",
    "distance_upper_bound = 1000000\n",
    "all_dists, all_indxs = kdtree.query(df[[\"x\", \"y\", \"z\"]].to_numpy(), \n",
    "                                    k=num_neighbors, \n",
    "                                    distance_upper_bound=distance_upper_bound)\n",
    "print(all_dists)\n",
    "print(all_indxs)"
   ]
  },
  {
   "cell_type": "code",
   "execution_count": 11,
   "metadata": {},
   "outputs": [
    {
     "data": {
      "text/plain": [
       "2552459"
      ]
     },
     "execution_count": 11,
     "metadata": {},
     "output_type": "execute_result"
    }
   ],
   "source": [
    "len(all_dists)"
   ]
  },
  {
   "cell_type": "markdown",
   "metadata": {},
   "source": [
    "## inputs for label2vec"
   ]
  },
  {
   "cell_type": "code",
   "execution_count": null,
   "metadata": {},
   "outputs": [
    {
     "name": "stdout",
     "output_type": "stream",
     "text": [
      "0 1000 2000 3000 4000 5000 6000 7000 8000 9000 10000 11000 12000 13000 14000 15000 16000 17000 18000 19000 20000 21000 22000 23000 24000 25000 26000 27000 28000 29000 30000 31000 32000 33000 34000 35000 36000 37000 38000 39000 40000 41000 42000 43000 44000 45000 46000 47000 48000 49000 50000 51000 52000 53000 54000 55000 56000 57000 58000 59000 60000 61000 62000 63000 64000 65000 66000 67000 68000 69000 70000 71000 72000 73000 74000 75000 76000 77000 78000 79000 80000 81000 82000 83000 84000 85000 86000 87000 88000 89000 90000 91000 92000 93000 94000 95000 96000 97000 98000 99000 100000 101000 102000 103000 104000 105000 106000 107000 108000 109000 110000 111000 112000 113000 114000 115000 116000 117000 118000 119000 120000 121000 122000 123000 124000 125000 126000 127000 128000 129000 130000 131000 132000 133000 134000 135000 136000 137000 138000 139000 140000 141000 142000 143000 144000 145000 146000 147000 148000 149000 150000 151000 152000 153000 154000 155000 156000 157000 158000 159000 160000 161000 162000 163000 164000 165000 166000 167000 168000 169000 170000 171000 172000 173000 174000 175000 176000 177000 178000 179000 180000 181000 182000 183000 184000 185000 186000 187000 188000 189000 190000 191000 192000 193000 194000 195000 196000 197000 198000 199000 200000 201000 202000 203000 204000 205000 206000 207000 208000 209000 210000 211000 212000 213000 214000 215000 216000 217000 218000 219000 220000 221000 222000 223000 224000 225000 226000 227000 228000 229000 230000 231000 232000 233000 234000 235000 236000 237000 238000 239000 240000 241000 242000 243000 244000 245000 246000 247000 248000 249000 250000 251000 252000 253000 254000 255000 256000 257000 258000 259000 260000 261000 262000 263000 264000 265000 266000 267000 268000 269000 270000 271000 272000 273000 274000 275000 276000 277000 278000 279000 280000 281000 282000 283000 284000 285000 286000 287000 288000 289000 290000 291000 292000 293000 294000 295000 296000 297000 298000 299000 300000 301000 302000 303000 304000 305000 306000 307000 308000 309000 310000 311000 312000 313000 314000 315000 316000 317000 318000 319000 320000 321000 322000 323000 324000 325000 326000 327000 328000 329000 330000 331000 332000 333000 334000 335000 336000 337000 338000 339000 340000 341000 342000 343000 344000 345000 346000 347000 348000 349000 350000 351000 352000 353000 354000 355000 356000 357000 358000 359000 360000 361000 362000 363000 364000 365000 366000 367000 368000 369000 370000 371000 372000 373000 374000 375000 376000 377000 378000 379000 380000 381000 382000 383000 384000 385000 386000 387000 388000 389000 390000 391000 392000 393000 394000 395000 396000 397000 398000 399000 400000 401000 402000 403000 404000 405000 406000 407000 408000 409000 410000 411000 412000 413000 414000 415000 416000 417000 418000 419000 420000 421000 422000 423000 424000 425000 426000 427000 428000 429000 430000 431000 432000 433000 434000 435000 436000 437000 438000 439000 440000 441000 442000 443000 444000 445000 446000 447000 448000 449000 450000 451000 452000 453000 454000 455000 456000 457000 458000 459000 460000 461000 462000 463000 464000 465000 466000 467000 468000 469000 470000 471000 472000 473000 474000 475000 476000 477000 478000 479000 480000 481000 482000 483000 484000 485000 486000 487000 488000 489000 490000 491000 492000 493000 494000 495000 496000 497000 498000 499000 500000 501000 502000 503000 504000 505000 506000 507000 508000 509000 510000 511000 512000 513000 514000 515000 516000 517000 518000 519000 520000 521000 522000 523000 524000 525000 "
     ]
    }
   ],
   "source": [
    "min_dist = 0.1\n",
    "max_dist = 1000\n",
    "number_context_words = 10\n",
    "\n",
    "context_sents_list = []\n",
    "center_words_list = []\n",
    "for i in range(len(df)):\n",
    "    if np.mod(i, 1000) == 0: print(i, end=\" \")\n",
    "        \n",
    "    before_center = df.iloc[all_indxs[i, \n",
    "                                      (min_dist < all_dists[i]) * \n",
    "                                      (all_dists[i] < max_dist)]].final_text.to_list()[::2][::-1]\n",
    "    \n",
    "    if len(before_center) < number_context_words:\n",
    "        continue\n",
    "    before_center_cut = \" \".join(before_center).split()[-number_context_words:]\n",
    "    \n",
    "    after_center = df.iloc[all_indxs[i, \n",
    "                                     (min_dist < all_dists[i]) * \n",
    "                                     (all_dists[i] < max_dist)]].final_text.to_list()[1::2]\n",
    "    if len(after_center) < number_context_words:\n",
    "        continue\n",
    "    after_center_cut = \" \".join(after_center).split()[:number_context_words]\n",
    "    \n",
    "    mysentence = before_center_cut\n",
    "    #mysentence.append(center)\n",
    "    mysentence.extend(after_center_cut)\n",
    "    center_word = df.iloc[all_indxs[i]].final_text.values[0].split()\n",
    "    for j in center_word:\n",
    "        center_words_list.append(j.lower())\n",
    "        context_sents_list.append(\" \".join(mysentence).lower())"
   ]
  },
  {
   "cell_type": "code",
   "execution_count": null,
   "metadata": {},
   "outputs": [],
   "source": [
    "df2train = pd.DataFrame(center_words_list, columns=[\"target\"])\n",
    "df2train[\"context\"] = context_sents_list"
   ]
  },
  {
   "cell_type": "code",
   "execution_count": null,
   "metadata": {},
   "outputs": [],
   "source": [
    "df2train.head()"
   ]
  },
  {
   "cell_type": "code",
   "execution_count": null,
   "metadata": {},
   "outputs": [],
   "source": [
    "df2train.to_csv(\"./data2train_v001.csv\")"
   ]
  },
  {
   "cell_type": "code",
   "execution_count": null,
   "metadata": {},
   "outputs": [],
   "source": []
  },
  {
   "cell_type": "code",
   "execution_count": null,
   "metadata": {},
   "outputs": [],
   "source": []
  },
  {
   "cell_type": "code",
   "execution_count": null,
   "metadata": {},
   "outputs": [],
   "source": []
  },
  {
   "cell_type": "code",
   "execution_count": null,
   "metadata": {},
   "outputs": [],
   "source": []
  },
  {
   "cell_type": "code",
   "execution_count": null,
   "metadata": {},
   "outputs": [],
   "source": []
  },
  {
   "cell_type": "code",
   "execution_count": null,
   "metadata": {},
   "outputs": [],
   "source": []
  },
  {
   "cell_type": "code",
   "execution_count": null,
   "metadata": {},
   "outputs": [],
   "source": []
  },
  {
   "cell_type": "code",
   "execution_count": null,
   "metadata": {},
   "outputs": [],
   "source": []
  },
  {
   "cell_type": "markdown",
   "metadata": {},
   "source": [
    "# ======= PLAYGROUND"
   ]
  },
  {
   "cell_type": "code",
   "execution_count": null,
   "metadata": {},
   "outputs": [],
   "source": [
    "#np.shape(all_dists)[0] - np.sum(np.any(all_dists == np.inf, axis=1))\n",
    "np.sum(np.any(all_dists == np.inf, axis=1))"
   ]
  },
  {
   "cell_type": "code",
   "execution_count": null,
   "metadata": {},
   "outputs": [],
   "source": [
    "mean_dists = np.mean(all_dists, axis=1)"
   ]
  },
  {
   "cell_type": "code",
   "execution_count": null,
   "metadata": {},
   "outputs": [],
   "source": [
    "args_mean_sort = np.argsort(mean_dists)\n",
    "mean_dists_sorted = mean_dists[args_mean_sort]"
   ]
  },
  {
   "cell_type": "code",
   "execution_count": null,
   "metadata": {},
   "outputs": [],
   "source": [
    "import matplotlib.pyplot as plt\n",
    "\n",
    "plt.figure(figsize=(15, 15))\n",
    "plt.scatter(df[\"longitude\"].values[args_mean_sort][:10000], \n",
    "            df[\"latitude\"].values[args_mean_sort][:10000], \n",
    "            c=mean_dists_sorted[:10000], \n",
    "            cmap=\"hot_r\",\n",
    "            vmin=40,\n",
    "            vmax=800\n",
    "           )\n",
    "plt.colorbar()\n",
    "#plt.plot(np.mean(all_dists, axis=1))\n",
    "plt.grid()\n",
    "#plt.ylim(0, 10000)\n",
    "plt.show()"
   ]
  },
  {
   "cell_type": "code",
   "execution_count": null,
   "metadata": {},
   "outputs": [],
   "source": [
    "plt.plot(np.mean(all_dists, axis=1)[mean_dists_sort][:1000000])\n",
    "plt.ylim(0, 5000)\n",
    "plt.show()"
   ]
  }
 ],
 "metadata": {
  "kernelspec": {
   "display_name": "Python 3",
   "language": "python",
   "name": "python3"
  },
  "language_info": {
   "codemirror_mode": {
    "name": "ipython",
    "version": 3
   },
   "file_extension": ".py",
   "mimetype": "text/x-python",
   "name": "python",
   "nbconvert_exporter": "python",
   "pygments_lexer": "ipython3",
   "version": "3.6.8"
  }
 },
 "nbformat": 4,
 "nbformat_minor": 2
}
