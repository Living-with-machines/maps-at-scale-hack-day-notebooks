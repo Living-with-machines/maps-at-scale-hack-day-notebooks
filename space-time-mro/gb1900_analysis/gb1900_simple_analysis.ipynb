{
 "cells": [
  {
   "cell_type": "markdown",
   "metadata": {},
   "source": [
    "# Simple analysis of GB1900"
   ]
  },
  {
   "cell_type": "markdown",
   "metadata": {},
   "source": [
    "TODO:\n",
    "\n",
    "- [ ] Histogram 2D using geopandas\n",
    "- [ ] Legend beautification\n",
    "- [ ] local_authority labels on the maps (when hover over them)\n",
    "- [ ] change basemap to exclude Northern Ireland\n",
    "- [ ] query maps based on lat/lon of pins, possibly add a new column with link to sheets\n",
    "- [ ] abbreviation disambiguation ---> remove dots (in search/string matching step)"
   ]
  },
  {
   "cell_type": "code",
   "execution_count": null,
   "metadata": {},
   "outputs": [],
   "source": [
    "# %matplotlib notebook "
   ]
  },
  {
   "cell_type": "markdown",
   "metadata": {},
   "source": [
    "## Read the Gazetteer (gb1900_gazetteer_complete_july_2018.csv)"
   ]
  },
  {
   "cell_type": "code",
   "execution_count": null,
   "metadata": {},
   "outputs": [],
   "source": [
    "import itertools\n",
    "import matplotlib.pyplot as plt\n",
    "from matplotlib.colors import LogNorm\n",
    "import numpy as np\n",
    "import pandas as pd"
   ]
  },
  {
   "cell_type": "code",
   "execution_count": null,
   "metadata": {},
   "outputs": [],
   "source": [
    "with open(\"./gb1900_gazetteer_complete_july_2018.csv\", encoding='UTF-16') as f:\n",
    "    df = pd.read_csv(f)"
   ]
  },
  {
   "cell_type": "code",
   "execution_count": null,
   "metadata": {},
   "outputs": [],
   "source": [
    "df.head()"
   ]
  },
  {
   "cell_type": "markdown",
   "metadata": {},
   "source": [
    "## Find and group unique text strings"
   ]
  },
  {
   "cell_type": "code",
   "execution_count": null,
   "metadata": {},
   "outputs": [],
   "source": [
    "min_counts = 5000\n",
    "xy2plot = df.groupby(\"final_text\").count().sort_values(\"pin_id\", ascending=False)[\"pin_id\"]\n",
    "xy2plot_filtered = xy2plot[xy2plot > min_counts]\n",
    "print(\"Total number of unique text strings: {}\".format(len(xy2plot)))\n",
    "print(\"Number of unique text strings (after filtering): {}\".format(len(xy2plot_filtered)))"
   ]
  },
  {
   "cell_type": "code",
   "execution_count": null,
   "metadata": {},
   "outputs": [],
   "source": [
    "ax = plt.figure(figsize=(15, 7)).add_subplot(111)\n",
    "xy2plot_filtered.plot(ax=ax, kind='bar')\n",
    "ax.set_xlabel(\"Place\", size=24)\n",
    "ax.set_ylabel(\"Count\", size=24)\n",
    "ax.tick_params(labelsize=14)\n",
    "ax.grid()\n",
    "plt.show()"
   ]
  },
  {
   "cell_type": "code",
   "execution_count": null,
   "metadata": {},
   "outputs": [],
   "source": [
    "# list text/number of xy2plot_filtered\n",
    "first_index = 0\n",
    "last_index = 50\n",
    "xy2plot_filtered[first_index:last_index]"
   ]
  },
  {
   "cell_type": "code",
   "execution_count": null,
   "metadata": {},
   "outputs": [],
   "source": [
    "# one instance with longitude < -10\n",
    "df[df[\"longitude\"] < -10]"
   ]
  },
  {
   "cell_type": "markdown",
   "metadata": {},
   "source": [
    "## Select texts/lables for further analysis/plotting"
   ]
  },
  {
   "cell_type": "code",
   "execution_count": null,
   "metadata": {},
   "outputs": [],
   "source": [
    "# read OS_Abbreviations.xlsx file which contains mapping between label and text\n",
    "os_abbreviation = pd.read_excel(\"./OS_Abbreviations.xlsx\")\n",
    "\n",
    "search_string = \"engine\"\n",
    "list_of_selected_text = os_abbreviation[os_abbreviation[\"text\"].str.contains(search_string, \n",
    "                                                                             case=False, \n",
    "                                                                             na=False)].label.to_list()\n",
    "list_of_selected_text.extend([search_string])\n",
    "print(\"Here is the list of selected texts that contain {}: {}\".format(search_string, list_of_selected_text))\n",
    "\n",
    "for itext in list_of_selected_text:\n",
    "    df_filtered = df[df[\"final_text\"].str.contains(itext, case=False, na=False)]\n",
    "    print(10*\"=\" + \" {}. Total: {}\".format(itext,df_filtered.shape[0]))\n",
    "    print(df_filtered.groupby(\"final_text\").count().sort_values(\"pin_id\", ascending=False)[\"pin_id\"][0:60])"
   ]
  },
  {
   "cell_type": "code",
   "execution_count": null,
   "metadata": {},
   "outputs": [],
   "source": [
    "# Complex search: 2 strings (AND and NOT)\n",
    "\n",
    "search_string_1 = \"mill\"\n",
    "search_string_2 = \"disused\"\n",
    "list_of_selected_text_1 = os_abbreviation[os_abbreviation[\"text\"].str.contains(search_string_1, case=False, na=False)].label.to_list()\n",
    "list_of_selected_text_2 = os_abbreviation[os_abbreviation[\"text\"].str.contains(search_string_2, case=False, na=False)].label.to_list()    \n",
    "list_of_selected_text_1.extend([search_string_1])\n",
    "list_of_selected_text_2.extend([search_string_2])\n",
    "\n",
    "print(\"Here is the list of selected texts that contain {}: {}\".format(search_string_1, list_of_selected_text_1))\n",
    "print(\"Here is the list of selected texts that contain {}: {}\".format(search_string_2, list_of_selected_text_2))\n",
    "\n",
    "# contains both search_string_1 and search_string_2 eg. 'mill & disused'\n",
    "for itext_1 in list_of_selected_text_1:\n",
    "    df_filtered = df[(df[\"final_text\"].str.contains(itext_1, case=False, na=False))]\n",
    "    for itext_2 in list_of_selected_text_2:\n",
    "        print()\n",
    "        df_filtered = df_filtered[(df_filtered[\"final_text\"].str.contains(itext_2, case=False, na=False))]\n",
    "        print(10*\"=\" + \" {} and {}. Total: {}\".format(itext_1, itext_2, df_filtered.shape[0]))\n",
    "        print(df_filtered.groupby(\"final_text\").count().sort_values(\"pin_id\", ascending=False)[\"pin_id\"][0:60])\n",
    "    \n",
    "# contains search_string_1 and NOT search_string_2 eg. 'mine' but not 'mineral'\n",
    "# for itext_1 in list_of_selected_text_1:\n",
    "#     df_filtered = df[(df[\"final_text\"].str.contains(itext_1, case=False, na=False))]\n",
    "#     for itext_2 in list_of_selected_text_2:\n",
    "#         df_filtered = df_filtered[(~df_filtered[\"final_text\"].str.contains(itext_2, case=False, na=False))]\n",
    "#         print()\n",
    "#         print(10*\"=\" + \" {} not {}. Total: {}\".format(itext_1, itext_2, df_filtered.shape[0]))\n",
    "#         print(df_filtered.groupby(\"final_text\").count().sort_values(\"pin_id\", ascending=False)[\"pin_id\"][0:60])"
   ]
  },
  {
   "cell_type": "code",
   "execution_count": null,
   "metadata": {},
   "outputs": [],
   "source": [
    "#1: each text/label is treated as an individual label\n",
    "#2: combine list_of_selected_text\n",
    "text_method = 2\n",
    "\n",
    "# enter selected texts here\n",
    "list_of_selected_text = [\"School\", \"Sch.\"]\n",
    "\n",
    "lats2plot = []\n",
    "lons2plot = []\n",
    "for i in list_of_selected_text:\n",
    "    df_filtered = df[df[\"final_text\"].isin([i])]\n",
    "    print(\"'{}' has {} rows.\".format(i, len(df_filtered)))\n",
    "    lats2plot.append(df_filtered[\"latitude\"].tolist())\n",
    "    lons2plot.append(df_filtered[\"longitude\"].tolist())\n",
    "\n",
    "if text_method == 2:\n",
    "    lats2plot = [list(itertools.chain.from_iterable(lats2plot))]\n",
    "    lons2plot = [list(itertools.chain.from_iterable(lons2plot))]\n",
    "    list_of_selected_text = [\", \".join(list_of_selected_text)]    "
   ]
  },
  {
   "cell_type": "markdown",
   "metadata": {},
   "source": [
    "## GeoPandas for plotting"
   ]
  },
  {
   "cell_type": "code",
   "execution_count": null,
   "metadata": {},
   "outputs": [],
   "source": [
    "import geopandas as gpd\n",
    "from shapely.geometry import Point\n",
    "\n",
    "# Download shapefiles from earthworks.stanford.edu\n",
    "world = gpd.read_file(\"./data_EPSG_4326/GBR_adm0.shp\")"
   ]
  },
  {
   "cell_type": "markdown",
   "metadata": {},
   "source": [
    "### Plot labels separately (text_method = 1)"
   ]
  },
  {
   "cell_type": "code",
   "execution_count": null,
   "metadata": {
    "scrolled": false
   },
   "outputs": [],
   "source": [
    "list_colors = [\"r\", \"b\", \"g\", \"c\", \"m\"]\n",
    "\n",
    "for igrp in range(len(lats2plot)):\n",
    "    geometry = [Point(xy) for xy in zip(lons2plot[igrp], lats2plot[igrp])]\n",
    "    gdf = gpd.GeoDataFrame(geometry=geometry)\n",
    "    gdf.plot(ax=world.plot(figsize=(20, 20), edgecolor='k', color='none'), \n",
    "             marker='o', \n",
    "             color=list_colors[igrp], \n",
    "             markersize=2,\n",
    "             alpha=0.2\n",
    "            )\n",
    "    plt.title(list_of_selected_text[igrp], size=24, weight='bold')\n",
    "    plt.xlim(xmin=-10)\n",
    "    plt.legend(prop={'size': 32})\n",
    "    plt.grid()\n",
    "plt.show()"
   ]
  },
  {
   "cell_type": "markdown",
   "metadata": {},
   "source": [
    "### Plot labels together on one map (text_method = 1 or 2)"
   ]
  },
  {
   "cell_type": "code",
   "execution_count": null,
   "metadata": {},
   "outputs": [],
   "source": [
    "list_colors = [\"r\", \"b\", \"g\", \"c\", \"m\"]\n",
    "\n",
    "fig, ax = plt.subplots(1, 1, figsize=(20, 20))\n",
    "\n",
    "world.plot(ax=ax, edgecolor='k', color='none')\n",
    "\n",
    "for igrp in range(len(lats2plot)):\n",
    "    geometry = [Point(xy) for xy in zip(lons2plot[igrp], lats2plot[igrp])]\n",
    "    gdf = gpd.GeoDataFrame(geometry=geometry)\n",
    "    gdf.plot(ax=ax, \n",
    "             marker='o', \n",
    "             color=list_colors[igrp], \n",
    "             markersize=2,\n",
    "             label=list_of_selected_text[igrp],\n",
    "             alpha=0.2\n",
    "            )\n",
    "plt.xlim(xmin=-10)\n",
    "plt.grid()\n",
    "plt.legend(prop={'size': 32})\n",
    "plt.show()"
   ]
  },
  {
   "cell_type": "markdown",
   "metadata": {},
   "source": [
    "### Simple plot (no projection)"
   ]
  },
  {
   "cell_type": "code",
   "execution_count": null,
   "metadata": {},
   "outputs": [],
   "source": [
    "list_colors = [\"r\", \"b\", \"g\", \"c\", \"m\"]\n",
    "fig, ax = plt.subplots(1, 1, figsize=(20, 20))\n",
    "\n",
    "for igrp in range(len(lats2plot)):\n",
    "    plt.scatter(np.array(lons2plot[igrp]), \n",
    "            np.array(lats2plot[igrp]), \n",
    "            c=list_colors[igrp],\n",
    "            s=3,\n",
    "            edgecolors='none',\n",
    "            alpha=0.4,\n",
    "            label=list_of_selected_text[igrp])\n",
    "    \n",
    "plt.xlim(xmin=-10)\n",
    "plt.grid()\n",
    "plt.legend(prop={'size': 32})\n",
    "plt.show()"
   ]
  },
  {
   "cell_type": "markdown",
   "metadata": {},
   "source": [
    "## 2D Histograms"
   ]
  },
  {
   "cell_type": "code",
   "execution_count": null,
   "metadata": {},
   "outputs": [],
   "source": [
    "list_colors = [\"r\", \"b\", \"g\", \"c\", \"m\"]\n",
    "plt.figure(figsize=(20, 20))\n",
    "\n",
    "igrp = 0\n",
    "plt.hist2d(np.array(lons2plot[igrp]), \n",
    "           np.array(lats2plot[igrp]),\n",
    "           bins=(100, 100),\n",
    "           range=[[-8, 2], [50, 62]],\n",
    "           cmap=\"Greys\",\n",
    "           label=list_of_selected_text[igrp],\n",
    "           #cmin=1,\n",
    "           #cmax=100,\n",
    "           norm=LogNorm()\n",
    "          )\n",
    "\n",
    "plt.title(list_of_selected_text[igrp], size=24, weight='bold')\n",
    "plt.xlim(xmin=-10)\n",
    "plt.legend(prop={'size': 32})\n",
    "plt.colorbar()\n",
    "plt.grid()\n",
    "plt.show()"
   ]
  },
  {
   "cell_type": "markdown",
   "metadata": {},
   "source": [
    "## Simple statistical analysis"
   ]
  },
  {
   "cell_type": "code",
   "execution_count": null,
   "metadata": {},
   "outputs": [],
   "source": [
    "x_bin = 100\n",
    "y_bin = 100\n",
    "\n",
    "igrp = 0\n",
    "hist_map = np.histogram2d(np.array(lons2plot[igrp]), \n",
    "                          np.array(lats2plot[igrp]), \n",
    "                          bins=(x_bin, y_bin))\n",
    "\n",
    "plt.figure(figsize=(10, 10))\n",
    "plt.subplot(2, 1, 1)\n",
    "plt.plot(hist_map[1][:-1], hist_map[0].sum(axis=1), lw=2, c='k')\n",
    "plt.ylabel(\"Frequency\", size=20)\n",
    "plt.xlabel(\"Longitude\", size=20)\n",
    "plt.title(list_of_selected_text[igrp], size=24, weight='bold')\n",
    "plt.grid()\n",
    "\n",
    "plt.subplot(2, 1, 2)\n",
    "plt.plot(hist_map[2][:-1], hist_map[0].sum(axis=0), lw=2, c='k')\n",
    "plt.ylabel(\"Frequency\", size=20)\n",
    "plt.xlabel(\"Latitude\", size=20)\n",
    "plt.grid()"
   ]
  },
  {
   "cell_type": "markdown",
   "metadata": {},
   "source": [
    "## Subtract two histograms"
   ]
  },
  {
   "cell_type": "code",
   "execution_count": null,
   "metadata": {},
   "outputs": [],
   "source": [
    "positive_list_selected_text = [\"School\", \"Sch.\"]\n",
    "negative_list_selected_text = [\"Chap.\", \"Chapel\"]\n",
    "x_bin = 100\n",
    "y_bin = 100\n",
    "\n",
    "# ============ positive\n",
    "lats2plot = []\n",
    "lons2plot = []\n",
    "for i in positive_list_selected_text:\n",
    "    df_filtered = df[df[\"final_text\"].isin([i])]\n",
    "    print(\"'{}' has {} rows.\".format(i, len(df_filtered)))\n",
    "    lats2plot.extend(df_filtered[\"latitude\"].tolist())\n",
    "    lons2plot.extend(df_filtered[\"longitude\"].tolist())\n",
    "lats2plot = [lats2plot]\n",
    "lons2plot = [lons2plot]\n",
    "\n",
    "hist_map_positive = np.histogram2d(np.array(lons2plot[0]), np.array(lats2plot[0]), bins=(x_bin, y_bin))\n",
    "\n",
    "# ============ negative\n",
    "lats2plot = []\n",
    "lons2plot = []\n",
    "for i in negative_list_selected_text:\n",
    "    df_filtered = df[df[\"final_text\"].isin([i])]\n",
    "    print(\"'{}' has {} rows.\".format(i, len(df_filtered)))\n",
    "    lats2plot.extend(df_filtered[\"latitude\"].tolist())\n",
    "    lons2plot.extend(df_filtered[\"longitude\"].tolist())\n",
    "lats2plot = [lats2plot]\n",
    "lons2plot = [lons2plot]\n",
    "\n",
    "hist_map_negative = np.histogram2d(np.array(lons2plot[0]), np.array(lats2plot[0]), bins=(x_bin, y_bin))"
   ]
  },
  {
   "cell_type": "code",
   "execution_count": null,
   "metadata": {},
   "outputs": [],
   "source": [
    "list_colors = [\"r\", \"b\", \"g\", \"c\", \"m\"]\n",
    "plt.figure(figsize=(20, 20))\n",
    "\n",
    "plt.pcolor(hist_map_positive[1], \n",
    "           hist_map_positive[2], \n",
    "           (hist_map_positive[0] - hist_map_negative[0]).T, \n",
    "           cmap=\"seismic\",\n",
    "           vmin=-50,\n",
    "           vmax=50)\n",
    "plt.xlim(xmin=-10)\n",
    "plt.legend(prop={'size': 32})\n",
    "plt.colorbar()\n",
    "plt.grid()\n",
    "plt.show()"
   ]
  },
  {
   "cell_type": "code",
   "execution_count": null,
   "metadata": {},
   "outputs": [],
   "source": []
  }
 ],
 "metadata": {
  "kernelspec": {
   "display_name": "Python 3",
   "language": "python",
   "name": "python3"
  },
  "language_info": {
   "codemirror_mode": {
    "name": "ipython",
    "version": 3
   },
   "file_extension": ".py",
   "mimetype": "text/x-python",
   "name": "python",
   "nbconvert_exporter": "python",
   "pygments_lexer": "ipython3",
   "version": "3.7.4"
  }
 },
 "nbformat": 4,
 "nbformat_minor": 2
}
