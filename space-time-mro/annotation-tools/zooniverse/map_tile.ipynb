{
 "cells": [
  {
   "cell_type": "code",
   "execution_count": 1,
   "metadata": {},
   "outputs": [],
   "source": [
    "import image_slicer\n",
    "from PIL import Image\n",
    "from tqdm import tqdm\n",
    "from pathlib import Path\n",
    "import glob\n",
    "import concurrent.futures"
   ]
  },
  {
   "cell_type": "code",
   "execution_count": 2,
   "metadata": {},
   "outputs": [],
   "source": [
    "Image.MAX_IMAGE_PIXELS = None"
   ]
  },
  {
   "cell_type": "code",
   "execution_count": 15,
   "metadata": {},
   "outputs": [],
   "source": [
    "def read_files(path, extension):\n",
    "    return glob.glob(f'{path}.{extension}')"
   ]
  },
  {
   "cell_type": "code",
   "execution_count": 4,
   "metadata": {},
   "outputs": [],
   "source": [
    "def slice_map(images):\n",
    "    for image in images:\n",
    "        fname = Path(image).stem\n",
    "        tiles = image_slicer.slice(image, 4, save=False)\n",
    "        image_slicer.save_tiles(tiles, prefix=fname, format='jpeg')"
   ]
  },
  {
   "cell_type": "code",
   "execution_count": 19,
   "metadata": {},
   "outputs": [
    {
     "name": "stdout",
     "output_type": "stream",
     "text": [
      "CPU times: user 1min 14s, sys: 48 s, total: 2min 2s\n",
      "Wall time: 4min 5s\n"
     ]
    }
   ],
   "source": [
    "%%time\n",
    "image_files = glob.glob(\"data/*.tif\")\n",
    "slice_map(image_files)"
   ]
  },
  {
   "cell_type": "code",
   "execution_count": 18,
   "metadata": {},
   "outputs": [
    {
     "name": "stdout",
     "output_type": "stream",
     "text": [
      "CPU times: user 23.4 ms, sys: 42.1 ms, total: 65.5 ms\n",
      "Wall time: 1min 39s\n"
     ]
    }
   ],
   "source": [
    "%%time\n",
    "def slice_map_pool(image):\n",
    "    fname = Path(image).stem\n",
    "    tiles = image_slicer.slice(image, 4, save=False)\n",
    "    image_slicer.save_tiles(tiles, prefix=fname, format='jpeg')\n",
    "\n",
    "with concurrent.futures.ProcessPoolExecutor() as executor:\n",
    "    image_files = glob.glob(\"data/*.tif\")    \n",
    "    result = executor.map(slice_map_pool, image_files)"
   ]
  },
  {
   "cell_type": "code",
   "execution_count": null,
   "metadata": {},
   "outputs": [],
   "source": []
  }
 ],
 "metadata": {
  "kernelspec": {
   "display_name": "Python [conda env:maps]",
   "language": "python",
   "name": "conda-env-maps-py"
  },
  "language_info": {
   "codemirror_mode": {
    "name": "ipython",
    "version": 3
   },
   "file_extension": ".py",
   "mimetype": "text/x-python",
   "name": "python",
   "nbconvert_exporter": "python",
   "pygments_lexer": "ipython3",
   "version": "3.7.3"
  }
 },
 "nbformat": 4,
 "nbformat_minor": 2
}
