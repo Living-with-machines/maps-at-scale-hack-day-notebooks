{
 "cells": [
  {
   "cell_type": "markdown",
   "metadata": {},
   "source": [
    "# Proof by Pixel: Basic Image Analytics for Research on Historical Maps\n",
    "\n",
    "## Part 1: Basics of working with images in Python\n",
    "\n",
    "In this notebook we will get an introduction to working with images in Python. If you have any previous experience with working with images in python it might be familar/boring. If this applies to you it would be great if you helped your neighbour(s) get up to speed with everything in this notebook. "
   ]
  },
  {
   "cell_type": "markdown",
   "metadata": {},
   "source": [
    "This notebook draws partly on a Data Carpentry [lesson](https://datacarpentry.org/image-processing/) and the documentation for the libraries discussed below. \n",
    "\n",
    "## Outline: \n",
    "This notebook covers some basic components of working with images in python. It briefly covers:\n",
    "- Basics of how images are stored on a disk \n",
    "- How to load images using Python\n",
    "- Getting metadata about an image\n",
    "\n",
    "### Loading images\n",
    "- loading images\n",
    "- display images \n",
    "\n",
    "### Metadata\n",
    "- basic metadata \n",
    "\n",
    "### Manipulating images\n",
    "- Resize images\n",
    "- Navigating images (coordinates)\n",
    "- Converting images \n",
    "\n",
    "### Saving outputs\n",
    "- How to save images back to disk"
   ]
  },
  {
   "cell_type": "markdown",
   "metadata": {},
   "source": [
    "### Notebook hint\n",
    "- Google Colab is a essentially a Jupyter notebook so it supports most common jupyter notebook tricks \n",
    "- Throughout this notebook you will see some hints on using notebooks to make life easier, particularly for interactive data analysis work.\n",
    "\n",
    "### Magic commannds \n",
    "- Ipython/jupyter notebooks support various magic commands one of these is:\n",
    "```\n",
    "%matplotlib inline\n",
    "```\n",
    "\n",
    "This ensures the output of plotting commands is displayed inline within your notebook. You will often want to include this when using notebooks for interactive data exploration."
   ]
  },
  {
   "cell_type": "code",
   "execution_count": null,
   "metadata": {},
   "outputs": [],
   "source": [
    "%matplotlib inline"
   ]
  },
  {
   "cell_type": "code",
   "execution_count": null,
   "metadata": {},
   "outputs": [],
   "source": [
    "# Importing required packages \n",
    "from matplotlib import pyplot as plt\n",
    "import IPython.display"
   ]
  },
  {
   "cell_type": "markdown",
   "metadata": {},
   "source": [
    "# Digital maps\n",
    "\n",
    "<img src=\"https://geospatialmedia.s3.amazonaws.com/wp-content/uploads/2017/12/custom-thumb3.jpg\" alt=\"Os maps\" style=\"width: 400px;\"/>\n",
    "\n",
    "# Images and computers\n",
    "We are probably all familiar with pysical OS maps but since we are going to be working with OS maps which have been digitised by the National Library of Scotland we need to conisder how to work with images on computers. Whole books have been written on using images with computers. This isn't exhaustive but some things which we need to have an awareness of for the analysis work we will be doing in the hack day and for the subsequent sessions. \n",
    "\n",
    "## Pixels\n",
    "You will probably be familar with the concept of pixels from having seen bad quality images\n",
    "- ['Images on computers are stored as rectangular arrays of hundreds, thousands, or millions of discrete “picture elements,” otherwise known as pixels. Each pixel can be thought of as a single square point of colored light.'](https://datacarpentry.org/image-processing/02-image-basics/)\n",
    "- This will be important to keep in mind later as we 'navigate', and peform analysis on images (maps) using pixels\n",
    "- It will also be important for the next hack session on deep learning...\n",
    "\n",
    "## RGB channels\n",
    "Colour images on computers are usually stored in seperate RGB channels. These three channels - 'red', 'green', 'blue' are combined to form the full colour image. For example:\n",
    "\n",
    "## Original image \n",
    "![Original Image](https://datacarpentry.org/image-processing/fig/02-chair-orig.jpg)\n",
    "\n",
    "## Seperated RGB channels \n",
    "![RGB channels](https://datacarpentry.org/image-processing/fig/02-chair-layers.png)\n",
    "\n",
    "We will pick up on this again later on. \n",
    "\n",
    "## Grayscale images \n",
    "[\"In digital photography, computer-generated imagery, and colorimetry, a grayscale or greyscale image is one in which the value of each pixel is a single sample representing only an amount of light, that is, it carries only intensity information. Grayscale images, a kind of black-and-white or gray monochrome, are composed exclusively of shades of gray. The contrast ranges from black at the weakest intensity to white at the strongest.\"](https://en.wikipedia.org/wiki/Grayscale)\n",
    "\n",
    "We might find using grayscale images useful for removing some complexity later on. \n",
    "\n",
    "## Formats\n",
    "There are loads of different image formats we might come accross 'in the wild' but for our purposes there are a few main ones to be aware of when working with maps. \n",
    "\n",
    "### TIFF \n",
    "- Identified by .tif or .tiff extension\n",
    "- The TIFF format is a common format for storing uncompressed images that is often the output from digitsation, cameras and consumer scanners.  \n",
    "- TIFF files are often big. In the case of maps they are especially big (~600MB) which can make them difficult to work with without some pre-processing work. \n",
    "- Some imaging libraries can have problems working with TIFF images. Usually Python libraries rely on [libtiff](http://www.libtiff.org/) so if you are having a problems loading TIFF images you may want to start by checking your system has libtiff installed/available. \n",
    "\n",
    "### GeoTIFF\n",
    "- GeoTIFF is an extension of TIFF which allows georeferencing information to be embedded within a TIFF file. [The potential additional information includes map projection, coordinate systems, ellipsoids, datums, and everything else necessary to establish the exact spatial reference for the file. The GeoTIFF format is fully compliant with TIFF 6.0, so software incapable of reading and interpreting the specialized metadata will still be able to open a GeoTIFF format file.](https://en.wikipedia.org/wiki/GeoTIFF)\n",
    "- Some of the maps we have been given by NLS \n",
    "\n",
    "### JPEG\n",
    "- Usually identfied by .jpg or .jpeg extensions \n",
    "- A lossy compression format often used for sharing images online \n",
    "- This format is also commmonly used and is often used as a format for sharing images.\n",
    "- A JPEG format will contain less information than a TIFF file but will also be smaller. In the second hack day we will see that this loss of detail isn't always important. \n"
   ]
  },
  {
   "cell_type": "markdown",
   "metadata": {},
   "source": [
    "# Python packages for working with images\n",
    "\n",
    "There are various Python libraries available for working with images using Python. These libraries all have slightly different focuses but often have overlapping functionality:\n",
    "\n",
    "## [Pillow](https://python-pillow.org/)\n",
    "- Pillow is a \"friendly fork\" of PIL (Python Image Library)\n",
    "- It focuses more on 'day-to-day' image processing tasks (opening, manipulating, and converting images)\n",
    "- It is fast and can be made faster with [Pillow-SIMD](https://github.com/uploadcare/pillow-simd)\n",
    "\n",
    "## [OpenCV](https://opencv.org/) \n",
    "- OpenCV (Open Source Computer Vision Library) is a C/C++ image processing library with a Python API\n",
    "- It has a wider range of implemented algorithms than Pillow \n",
    "- It is also more focused on Computer Vision tasks (for example it has models for face detection included)\n",
    "\n",
    "## [Scikit-Image](https://scikit-image.org/)\n",
    "- Scikit-image is another image processing library focused more on scientific research requirements\n",
    "- If you are familiar with the rest of the [Scipy](https://www.scipy.org/) ecosytem the api for this package should feel familiar\n",
    "- It has support for working with Numpy arrays (more on this below)\n",
    "- It also implements many image processing and analysis algorithms"
   ]
  },
  {
   "cell_type": "markdown",
   "metadata": {},
   "source": [
    "# Importing packages\n",
    "- To work with these Python libraries we need to import them into our notebook"
   ]
  },
  {
   "cell_type": "code",
   "execution_count": null,
   "metadata": {},
   "outputs": [],
   "source": [
    "# This cell imports Pillow\n",
    "from PIL import Image "
   ]
  },
  {
   "cell_type": "code",
   "execution_count": null,
   "metadata": {},
   "outputs": [],
   "source": [
    "# This cell imports openCV\n",
    "import cv2 as cv # A common convention in python is to import a package 'as' something else to save typing out long library names"
   ]
  },
  {
   "cell_type": "markdown",
   "metadata": {},
   "source": [
    "## Loading Images "
   ]
  },
  {
   "cell_type": "markdown",
   "metadata": {},
   "source": [
    "### Notebook hint\n",
    "- A nice feature of Jupyter notebooks/lab is to get documentation/tips as you are working\n",
    "- Using ? follow by a method or function will give you some documentation for that library/function e.g. \n",
    "\n",
    "```\n",
    "?cv \n",
    "```"
   ]
  },
  {
   "cell_type": "code",
   "execution_count": null,
   "metadata": {},
   "outputs": [],
   "source": [
    "?cv"
   ]
  },
  {
   "cell_type": "code",
   "execution_count": null,
   "metadata": {},
   "outputs": [],
   "source": [
    "# remove the 'hash/#' comment symbol below to see docs for im.read\n",
    "#?cv.imread"
   ]
  },
  {
   "cell_type": "markdown",
   "metadata": {},
   "source": [
    "To upload files into Colab:"
   ]
  },
  {
   "cell_type": "code",
   "execution_count": null,
   "metadata": {},
   "outputs": [],
   "source": [
    "from google.colab import files\n",
    "uploaded = files.upload()\n",
    "# Select the files you downloaded earlier "
   ]
  },
  {
   "cell_type": "markdown",
   "metadata": {},
   "source": [
    "To load our image we can use the imread function. We need to tell this function where to find the file we want to read. "
   ]
  },
  {
   "cell_type": "code",
   "execution_count": null,
   "metadata": {},
   "outputs": [],
   "source": [
    "image = cv.imread(filename = \"maps/74425296.27.jpg\")"
   ]
  },
  {
   "cell_type": "markdown",
   "metadata": {},
   "source": [
    "Lets try printing the image"
   ]
  },
  {
   "cell_type": "code",
   "execution_count": null,
   "metadata": {},
   "outputs": [],
   "source": [
    "print(image)"
   ]
  },
  {
   "cell_type": "markdown",
   "metadata": {},
   "source": [
    "## huh?\n",
    "That doesn't look much like a picture! We can usually find out what type of data we are working with in in python using the 'type' function. "
   ]
  },
  {
   "cell_type": "code",
   "execution_count": null,
   "metadata": {},
   "outputs": [],
   "source": [
    "print(type(image))"
   ]
  },
  {
   "cell_type": "markdown",
   "metadata": {},
   "source": [
    "This is telling us that image is a numpy array. [Numpy] is a library which supports scientific work in Python. A numpy array is a container for storing information, in this case, the pixel values loaded by openCV. These arrays will become useful again later on but they aren't super helpful if you want to see the actual images. To prove that images really are just pixels let's use the Pillow library to turn the array into an image. "
   ]
  },
  {
   "cell_type": "code",
   "execution_count": null,
   "metadata": {},
   "outputs": [],
   "source": [
    "pillow_image = Image.fromarray(image)  # This takes the Image module from Pillow and uses the functiton 'fromarray' to generate an image from an array "
   ]
  },
  {
   "cell_type": "code",
   "execution_count": null,
   "metadata": {},
   "outputs": [],
   "source": [
    "?Image"
   ]
  },
  {
   "cell_type": "markdown",
   "metadata": {},
   "source": [
    "We can display pillow images as follows "
   ]
  },
  {
   "cell_type": "code",
   "execution_count": null,
   "metadata": {},
   "outputs": [],
   "source": [
    "plt.imshow(pillow_image)"
   ]
  },
  {
   "cell_type": "markdown",
   "metadata": {},
   "source": [
    "We can actually already do this directly from the array without using the pillow function since matplotlib also understands arrays. "
   ]
  },
  {
   "cell_type": "code",
   "execution_count": null,
   "metadata": {},
   "outputs": [],
   "source": [
    "plt.imshow(image)"
   ]
  },
  {
   "cell_type": "markdown",
   "metadata": {},
   "source": [
    "## Weird colours\n",
    "\n",
    "At the moment it looks like we're exploring the bottom of the ocean. We'll get back to this in the next notebook. "
   ]
  },
  {
   "cell_type": "markdown",
   "metadata": {},
   "source": [
    "# Access image metadata\n",
    "- **Terminology alert**: in this context we mean metadata associated with the image object not metadata about the original physical item/map the image came from\n",
    "\n",
    "- We can use OpenCV to access some metadata about images"
   ]
  },
  {
   "cell_type": "code",
   "execution_count": null,
   "metadata": {},
   "outputs": [],
   "source": [
    "print(image.shape)\n",
    "#  It returns a tuple of number of rows, columns, and channels (if image is color)"
   ]
  },
  {
   "cell_type": "code",
   "execution_count": null,
   "metadata": {},
   "outputs": [],
   "source": [
    "print(image.size)"
   ]
  },
  {
   "cell_type": "markdown",
   "metadata": {},
   "source": [
    "### Notebook hint\n",
    "Normally in python you use print() to see a variable/output of a function but in notebooks the last output in the cell is displayed by default so we can skip that step. "
   ]
  },
  {
   "cell_type": "code",
   "execution_count": null,
   "metadata": {},
   "outputs": [],
   "source": [
    "image.size"
   ]
  },
  {
   "cell_type": "markdown",
   "metadata": {},
   "source": [
    "## Manipulating images\n",
    "Often when working with images we will often have to change them in some way to make them easier to work with. In the case of maps for example we are working with:\n",
    "- very large images (dimensions)\n",
    "- large file sizes \n",
    "- with 3 channels by default \n",
    "\n",
    "It can be useful to change all of these factors to make the images easier to work with. "
   ]
  },
  {
   "cell_type": "markdown",
   "metadata": {},
   "source": [
    "### Convert to grayscale"
   ]
  },
  {
   "cell_type": "code",
   "execution_count": null,
   "metadata": {},
   "outputs": [],
   "source": [
    "gray_image = cv.cvtColor(image, cv.COLOR_RGB2GRAY)\n",
    "gray_image.shape"
   ]
  },
  {
   "cell_type": "markdown",
   "metadata": {},
   "source": [
    "You will see now that the 'shape' of the image has changed since we no longer have an RGB image. "
   ]
  },
  {
   "cell_type": "code",
   "execution_count": null,
   "metadata": {},
   "outputs": [],
   "source": [
    "# Plot "
   ]
  },
  {
   "cell_type": "code",
   "execution_count": null,
   "metadata": {},
   "outputs": [],
   "source": [
    "gray_image_pillow = Image.fromarray(gray_image)\n",
    "plt.imshow(gray_image_pillow)"
   ]
  },
  {
   "cell_type": "markdown",
   "metadata": {},
   "source": [
    "# Resizing images\n",
    "- dimensions \n",
    "- file size / compression \n"
   ]
  },
  {
   "cell_type": "markdown",
   "metadata": {},
   "source": [
    "### Reducing dimensions of image "
   ]
  },
  {
   "cell_type": "code",
   "execution_count": null,
   "metadata": {},
   "outputs": [],
   "source": [
    "print(gray_image.size)\n",
    "small = cv.resize(src = gray_image, dsize = None, fx = 0.1, fy = 0.1)\n",
    "print(small.size)"
   ]
  },
  {
   "cell_type": "markdown",
   "metadata": {},
   "source": [
    "## Compressing image and saving to a new file format \n",
    "We might want to reduce the file size of our image, change format and save with a new name. To do this in pillow we access the Image object we created above and use the 'save' method. We need to pass a filename, a format can be infered from the extension given in a filename but it can be helpful to be explict about the format when using this function. An optional parameter 'quality' can be used to reduce the filesize further. "
   ]
  },
  {
   "cell_type": "code",
   "execution_count": null,
   "metadata": {},
   "outputs": [],
   "source": [
    "gray_image_pillow.save('gray_image.jpg',format='jpeg', quality=50)"
   ]
  },
  {
   "cell_type": "markdown",
   "metadata": {},
   "source": [
    "### Notebook hint \n",
    "It can often be annoying to remember what arguments a function like Image.save requires. In Jupyter notebooks you can see expected function arguments by pressing: \n",
    "```\n",
    "Shift+Tab\n",
    "```\n",
    "With the example above you could enter gray_image_pillow.save and then hit 'shift+tab' to see what arguments this function requires and which optional ones are available. "
   ]
  },
  {
   "cell_type": "code",
   "execution_count": null,
   "metadata": {},
   "outputs": [],
   "source": [
    "# Try running Shift+Tab \n",
    "gray_image_pillow.save"
   ]
  },
  {
   "cell_type": "markdown",
   "metadata": {},
   "source": [
    "# Next notebook \n",
    "The next notebook will move to exploring what features can be found by working with pixel values "
   ]
  },
  {
   "cell_type": "markdown",
   "metadata": {},
   "source": [
    "# Further resources \n",
    "\n",
    "For further resources on working with images in python see:  \n",
    "\n",
    "## Tutorials\n",
    "- [Data  Carpentry lesson  on image analytics and processing](https://datacarpentry.org/image-processing/)\n",
    "- [Scikit-image video tutorial](www.youtube.com%2Fwatch%3Fv%3Dd1CIV9irQAY&usg=AOvVaw2WFU7698vaTlPF8EudVUOD)\n",
    "\n",
    "## Documentation \n",
    "- [Pillow Documentation](https://pillow.readthedocs.io/en/stable/)\n",
    "- [OpenCV Documentation](https://opencv-python-tutroals.readthedocs.io/en/latest/py_tutorials/py_tutorials.html)\n",
    "- [Scikit-image documentation](https://scikit-image.org/docs/stable/index.html) \n",
    "\n",
    "## Other useful tools \n",
    "- [Image Magick](https://imagemagick.org/image/wizard.png): a commmand line tool for image processing/conversion "
   ]
  }
 ],
 "metadata": {
  "kernelspec": {
   "display_name": "Python [conda env:maps]",
   "language": "python",
   "name": "conda-env-maps-py"
  },
  "language_info": {
   "codemirror_mode": {
    "name": "ipython",
    "version": 3
   },
   "file_extension": ".py",
   "mimetype": "text/x-python",
   "name": "python",
   "nbconvert_exporter": "python",
   "pygments_lexer": "ipython3",
   "version": "3.7.3"
  }
 },
 "nbformat": 4,
 "nbformat_minor": 2
}
