{
  "nbformat": 4,
  "nbformat_minor": 0,
  "metadata": {
    "colab": {
      "name": "Geoqueries.ipynb",
      "provenance": []
    },
    "kernelspec": {
      "name": "python3",
      "display_name": "Python 3"
    }
  },
  "cells": [
    {
      "cell_type": "markdown",
      "metadata": {
        "id": "5FWzkcJQ0B6b",
        "colab_type": "text"
      },
      "source": [
        "# Map Image Database and Geo-queries\n",
        "\n",
        "\n"
      ]
    },
    {
      "cell_type": "markdown",
      "metadata": {
        "id": "rKXC_7B1hCm6",
        "colab_type": "text"
      },
      "source": [
        "# Preparing the map database\n",
        "\n",
        "We have access to a number of map image datasets from the National Library of Scotland. Each of the datasets is accompanied by a metadata description that contains properties that we would like to search. To support  searches by geolocation and other features the map metadata was ingested into the **map image database** .\n",
        "\n",
        "The following map datasets are available:\n",
        "\n",
        "* 01 Town Plans London\n",
        "* 02 Town Plans England 1840s 1890s\n",
        "* 03 Lancs Dorset 1900s 1940s\n",
        "* 04 Scotland 1840s 1880s\n",
        "* 05 Lancs Dorset 1880s 1890s\n",
        "* 06 Scotland OS 1 inch 1850s 1900s\n",
        "* 07 Scotland 1 inch 1890s 1900s\n",
        "\n"
      ]
    },
    {
      "cell_type": "markdown",
      "metadata": {
        "id": "MfzdZ-CGcOS0",
        "colab_type": "text"
      },
      "source": [
        "## Map metadata\n",
        "The map images are available as blobs in Azure. For each dataset there is a metadata file (shapefile) with text properties and geospatial properties of the maps.\n",
        "\n",
        "For example, these are the metadata fields for one of the maps:\n",
        "\n",
        "Key | Value \n",
        "---|---\n",
        "COUNTY| Fife\n",
        "DATES | Surveyed: 1854<br>Published: 1855\n",
        "IMAGE | 74426819\n",
        "IMAGETHUMB | https://deriv.nls.uk/dcn4/7442/74426819.4.jpg\n",
        "IMAGEURL | https://maps.nls.uk/view/74426819\n",
        "SHEET | Fife, Sheet 2\n",
        "SHEET_MAP | 2\n",
        "SHEET_NO\t| 002\n",
        "\n",
        "There is also a geospatial descriptor of the bounding box of the map - a polygon (in this case a rectangle) of latitude/longitude coordinates. For example:\n",
        "\n",
        "```\n",
        "        \"location\": {\n",
        "            \"type\": \"Polygon\",\n",
        "            \"coordinates\": [\n",
        "                [\n",
        "                    [ 56.40466580157687, -3.038775818686538 ],\n",
        "                    [ 56.462475957491904, -3.038386446430906 ],\n",
        "                    [ 56.46205321830267, -2.881755037222251 ],\n",
        "                    [ 56.40424397748634, -2.882381897770028 ],\n",
        "                    [ 56.40466580157687, -3.038775818686538 ]\n",
        "                ]\n",
        "            ]\n",
        "        }\n",
        "```\n",
        "(If you enter a pair of coordinates into Googlemaps it will show a location in Scotland.)"
      ]
    },
    {
      "cell_type": "markdown",
      "metadata": {
        "id": "JOg6q5L6is4f",
        "colab_type": "text"
      },
      "source": [
        "## Creating the map image database\n",
        "In order to search the metadata for all the maps and select certain areas or time properties, the map image metadata needs to be indexed. \n",
        "\n",
        "Elastic Search is a good match for this task as it supports geospatial data and provides a visual interface \"Kibana\" with a map view.\n",
        "\n",
        "To ingest the metadata from the shapefiles it is extracted and converted into JSON format that can be inserted into Elastic Search.\n",
        "\n",
        "For convenience, some of the metadata properties are preprocessed to create new properties:\n",
        "The date range is extracted from the DATES property. For example, the original DATES value\n",
        "```\n",
        "Surveyed: 1852-3\\<br>Published: 1854\n",
        "```\n",
        "yields the following properties: \n",
        "Key | Value \n",
        "---|---\n",
        "Surveyed_start | 1852\n",
        "Surveyed_end | 1853\n",
        "\n"
      ]
    },
    {
      "cell_type": "markdown",
      "metadata": {
        "id": "D71zA4s9gEMj",
        "colab_type": "text"
      },
      "source": [
        "# Accessing the map database\n",
        "There are two options:\n",
        "\n",
        "\n",
        "*   The map can be inspected visually with the Kibana user interface to Elastic Search.\n",
        "*   We can run a query to search for maps that intersect certain areas.\n",
        "\n"
      ]
    },
    {
      "cell_type": "markdown",
      "metadata": {
        "id": "2TM_3W38l8Sm",
        "colab_type": "text"
      },
      "source": [
        "## Visual interface Kibana\n",
        "\n",
        "The map image database is available here:\n",
        "\n",
        "http://51.140.84.209:5601/app/maps\n",
        "\n",
        "Click on any of the maps to visually inspect the coverage of the map images. If you hover the mouse over any of the highlighted areas, a selection of map properties will be displayed."
      ]
    },
    {
      "cell_type": "markdown",
      "metadata": {
        "id": "I2rWgG6WmBZR",
        "colab_type": "text"
      },
      "source": [
        "## Searching the database from a notebook"
      ]
    },
    {
      "cell_type": "markdown",
      "metadata": {
        "id": "64VeI75Fge9e",
        "colab_type": "text"
      },
      "source": [
        "First we need to install one dependency: pyproj is the Python interface to PROJ, the cartographic projections and coordinate transformations library. (See http://pyproj4.github.io/pyproj/stable/)"
      ]
    },
    {
      "cell_type": "code",
      "metadata": {
        "id": "sW0HmudTYumG",
        "colab_type": "code",
        "outputId": "f381e44c-673d-4817-9178-e61ae84dd455",
        "colab": {
          "base_uri": "https://localhost:8080/",
          "height": 200
        }
      },
      "source": [
        "!pip install pyproj"
      ],
      "execution_count": 0,
      "outputs": [
        {
          "output_type": "stream",
          "text": [
            "Collecting pyproj\n",
            "\u001b[?25l  Downloading https://files.pythonhosted.org/packages/16/59/43869adef45ce4f1cf7d5c3aef1ea5d65d449050abdda5de7a2465c5729d/pyproj-2.2.1-cp36-cp36m-manylinux1_x86_64.whl (11.2MB)\n",
            "\u001b[K     |████████████████████████████████| 11.2MB 2.9MB/s \n",
            "\u001b[?25hInstalling collected packages: pyproj\n",
            "Successfully installed pyproj-2.2.1\n"
          ],
          "name": "stdout"
        }
      ]
    },
    {
      "cell_type": "markdown",
      "metadata": {
        "id": "VlfzNOcdq8Ms",
        "colab_type": "text"
      },
      "source": [
        "Import the libraries used in the code below."
      ]
    },
    {
      "cell_type": "code",
      "metadata": {
        "id": "xEa3qdDLXz6g",
        "colab_type": "code",
        "colab": {}
      },
      "source": [
        "from functools import partial\n",
        "import json\n",
        "import pandas as pd\n",
        "import requests\n",
        "\n",
        "import shapely\n",
        "from shapely.geometry import Point\n",
        "from shapely.ops import transform\n",
        "import pyproj"
      ],
      "execution_count": 0,
      "outputs": []
    },
    {
      "cell_type": "markdown",
      "metadata": {
        "id": "NMLhZwRag97P",
        "colab_type": "text"
      },
      "source": [
        "We define the coordinates of specific places we may want to search for. Feel free to add your own, for example you can look up latitude and longitude from the wiki page of a town/place. (There might not always be maps available but we can work that out when we search the database.)"
      ]
    },
    {
      "cell_type": "code",
      "metadata": {
        "id": "nEolJ611cN6B",
        "colab_type": "code",
        "colab": {}
      },
      "source": [
        "coordinates = {\n",
        "    'Blackburn': Point(53.7449, -2.4769),\n",
        "    'Burnley': Point(53.789, -2.248),\n",
        "    'Barrow': Point(54.1108, -3.2261),\n",
        "    'Salford': Point(53.483, -2.2931),\n",
        "    'Dundee': Point(56.462, -2.9707),\n",
        "    'Govan': Point(55.8615, -4.3083),\n",
        "    'Weymouth': Point(50.613, -2.457),\n",
        "    'Ashton-under-Lyne': Point(53.489708, -2.095241),\n",
        "    'Dorchester': Point(50.7154, -2.4367),\n",
        "    'Poole': Point(50.716667, -1.983333),\n",
        "    'Manchester': Point(53.479444, -2.245278)\n",
        "}"
      ],
      "execution_count": 0,
      "outputs": []
    },
    {
      "cell_type": "markdown",
      "metadata": {
        "id": "Hh6_9aUrrCPQ",
        "colab_type": "text"
      },
      "source": [
        "Now we can define the URL of the database we're going to search, and have a look at the indices that are available. In Elastic Search, an index is a collection of documents, in our case these are the metadata entries of our map images."
      ]
    },
    {
      "cell_type": "code",
      "metadata": {
        "id": "ibKYZA3oY3e9",
        "colab_type": "code",
        "outputId": "3e65c21e-7e3d-47e1-e3d7-ff7b73622837",
        "colab": {
          "base_uri": "https://localhost:8080/",
          "height": 136
        }
      },
      "source": [
        "search_url = 'http://51.140.84.209:9200'\n",
        "\n",
        "response = requests.get('{}/_cat/indices?format=json'.format(search_url))\n",
        "indices = {}\n",
        "for i in response.json():\n",
        "    index_name = i['index']\n",
        "    if not index_name.startswith('.'):\n",
        "        indices[index_name[:2]] = index_name\n",
        "indices"
      ],
      "execution_count": 0,
      "outputs": [
        {
          "output_type": "execute_result",
          "data": {
            "text/plain": [
              "{'01': '01_os_town_plans_london_1890s',\n",
              " '02': '02_os_town_plans_england_1840s_1890s',\n",
              " '03': '03_os_25_inch_lancs_dorset_1900s_1940s',\n",
              " '04': '04_os_six_inch_scotland_1840s_1880s',\n",
              " '05': '05_os_six_inch_lancs_dorset_1880s_1890s',\n",
              " '06': '06_os_one_inch_1850s_1900s_scotland_lancs_dorset_london',\n",
              " '07': '07_os_one_inch_1890s_1900s_scotland_lancs_dorset_london'}"
            ]
          },
          "metadata": {
            "tags": []
          },
          "execution_count": 4
        }
      ]
    },
    {
      "cell_type": "markdown",
      "metadata": {
        "id": "AkDLGxyMs0t4",
        "colab_type": "text"
      },
      "source": [
        "## Helper functions\n",
        "We create a few functions that will be useful later.\n",
        "\n",
        "This function creates a circular area (in fact: a polygon) around the given centre, with the given radius in metres. The centre coordinates are provided as latitude/longitude pairs."
      ]
    },
    {
      "cell_type": "code",
      "metadata": {
        "id": "kaiuO41xsliP",
        "colab_type": "code",
        "colab": {}
      },
      "source": [
        "def create_circle(centre, radius):\n",
        "    proj_4326 = pyproj.Proj(init='EPSG:4326')\n",
        "    proj_32633 = pyproj.Proj(init='EPSG:32633')\n",
        "    transform_to_32633 = partial(pyproj.transform, proj_4326, proj_32633)\n",
        "    transform_to_4326 = partial(pyproj.transform, proj_32633, proj_4326)\n",
        "    proj_circle = transform(transform_to_32633, centre).buffer(radius, 3)\n",
        "    circle = transform(transform_to_4326, proj_circle)\n",
        "    return circle"
      ],
      "execution_count": 0,
      "outputs": []
    },
    {
      "cell_type": "markdown",
      "metadata": {
        "id": "md9d7XsSs4pS",
        "colab_type": "text"
      },
      "source": [
        "The next function formats an Elastic Search geo-query: The query searches for all the maps that intersects with the given geometric shape. (The geometric shape will be the circular area that we created above.)"
      ]
    },
    {
      "cell_type": "code",
      "metadata": {
        "id": "IHtrejpTsqLJ",
        "colab_type": "code",
        "colab": {}
      },
      "source": [
        "def create_geoquery(geojson):\n",
        "    return {\n",
        "       \"query\":{  \n",
        "          \"bool\":{  \n",
        "             \"must\": [  \n",
        "                {  \n",
        "                   \"geo_shape\": {  \n",
        "                      \"location\": {  \n",
        "                         \"shape\": geojson,\n",
        "                         \"relation\":\"INTERSECTS\"\n",
        "                      }\n",
        "                   }\n",
        "                }\n",
        "             ],\n",
        "             \"filter\":[  \n",
        "                {  \n",
        "                   \"match_all\": {}\n",
        "                }\n",
        "             ],\n",
        "             \"should\": [],\n",
        "             \"must_not\": []\n",
        "          }\n",
        "       }\n",
        "    }"
      ],
      "execution_count": 0,
      "outputs": []
    },
    {
      "cell_type": "markdown",
      "metadata": {
        "id": "NdXuopoet-I1",
        "colab_type": "text"
      },
      "source": [
        "The last helper function runs a geo-query that searches for all the maps that intersect a given area and returns the results as a JSON object. Finally we put it all together to search an area around a centre point.\n"
      ]
    },
    {
      "cell_type": "code",
      "metadata": {
        "id": "p9fXvFgnsuRN",
        "colab_type": "code",
        "colab": {}
      },
      "source": [
        "def find_maps(es_index, area):\n",
        "    geojson = shapely.geometry.mapping(area)\n",
        "    # we have to flip the lat-lon coordinates to comply with geojson\n",
        "    flipped = [[coord[1], coord[0]] for coord in geojson['coordinates'][0]]\n",
        "    geojson['coordinates'] = [flipped]\n",
        "    geoquery = create_geoquery(geojson)\n",
        "    response = requests.post('{}/{}/_search'.format(search_url, es_index), json=geoquery)\n",
        "    hits = response.json()['hits']\n",
        "    return hits\n",
        "\n",
        "def search_area(es_index, centre, radius):\n",
        "    area = create_circle(centre, radius)\n",
        "    return find_maps(es_index, area)"
      ],
      "execution_count": 0,
      "outputs": []
    },
    {
      "cell_type": "markdown",
      "metadata": {
        "id": "CeNtvzV7uq2h",
        "colab_type": "text"
      },
      "source": [
        "The results of the search is a JSON object including the following:\n",
        " * total : the total number of documents that matched the search\n",
        " * hits : the list of matching documents and for each of them:\n",
        "     * *_index* :  the index to search\n",
        "     * *_source* : the actual document\n",
        "\n",
        "Finally here's another helper function to create a dataframe for the results of a query."
      ]
    },
    {
      "cell_type": "code",
      "metadata": {
        "id": "lyydInKbvPK7",
        "colab_type": "code",
        "colab": {}
      },
      "source": [
        "def create_dataframe(hits):\n",
        "    return pd.concat(map(lambda h: pd.DataFrame.from_dict(h)['_source'].to_frame().T, hits['hits']))"
      ],
      "execution_count": 0,
      "outputs": []
    },
    {
      "cell_type": "markdown",
      "metadata": {
        "id": "pw7UPbd8w53B",
        "colab_type": "text"
      },
      "source": [
        "## Searching for maps\n",
        "\n",
        "Using Dundee as an example we're going to search the dataset of 6 inch OS maps of Scotland.\n",
        "\n",
        "The query searches for maps that cover places in a 10km radius around Dundee (or rather the geo-point that we defined above as the centre of Dundee).\n",
        "\n"
      ]
    },
    {
      "cell_type": "code",
      "metadata": {
        "id": "tCgW9rz-xFYt",
        "colab_type": "code",
        "outputId": "9e0b51eb-a07f-4d53-ed09-e698639e8c4e",
        "colab": {
          "base_uri": "https://localhost:8080/",
          "height": 34
        }
      },
      "source": [
        "hits = search_area('04_os_six_inch_scotland_1840s_1880s', centre=coordinates['Dundee'], radius=10000)\n",
        "print('Hits: {}'.format(hits['total']['value']))"
      ],
      "execution_count": 0,
      "outputs": [
        {
          "output_type": "stream",
          "text": [
            "Hits: 9\n"
          ],
          "name": "stdout"
        }
      ]
    },
    {
      "cell_type": "markdown",
      "metadata": {
        "id": "wbBBwv1Kxno2",
        "colab_type": "text"
      },
      "source": [
        "In this case we found 9 maps. Let's create a dataframe from the metadata that was returned by the search so we can inspect it. The IMAGE property contains the image ID that matches the filename in the sample dataset."
      ]
    },
    {
      "cell_type": "code",
      "metadata": {
        "id": "OpoH-egrxZeG",
        "colab_type": "code",
        "outputId": "80bee101-5681-4f84-d062-14ebe321974f",
        "colab": {
          "base_uri": "https://localhost:8080/",
          "height": 827
        }
      },
      "source": [
        "df = create_dataframe(hits)\n",
        "df"
      ],
      "execution_count": 0,
      "outputs": [
        {
          "output_type": "execute_result",
          "data": {
            "text/html": [
              "<div>\n",
              "<style scoped>\n",
              "    .dataframe tbody tr th:only-of-type {\n",
              "        vertical-align: middle;\n",
              "    }\n",
              "\n",
              "    .dataframe tbody tr th {\n",
              "        vertical-align: top;\n",
              "    }\n",
              "\n",
              "    .dataframe thead th {\n",
              "        text-align: right;\n",
              "    }\n",
              "</style>\n",
              "<table border=\"1\" class=\"dataframe\">\n",
              "  <thead>\n",
              "    <tr style=\"text-align: right;\">\n",
              "      <th></th>\n",
              "      <th>COUNTY</th>\n",
              "      <th>DATES</th>\n",
              "      <th>IMAGE</th>\n",
              "      <th>IMAGETHUMB</th>\n",
              "      <th>IMAGEURL</th>\n",
              "      <th>Published</th>\n",
              "      <th>Published_end</th>\n",
              "      <th>Published_start</th>\n",
              "      <th>SHEET</th>\n",
              "      <th>SHEET_MAP</th>\n",
              "      <th>SHEET_NO</th>\n",
              "      <th>Surveyed</th>\n",
              "      <th>Surveyed_end</th>\n",
              "      <th>Surveyed_start</th>\n",
              "      <th>location</th>\n",
              "    </tr>\n",
              "  </thead>\n",
              "  <tbody>\n",
              "    <tr>\n",
              "      <th>_source</th>\n",
              "      <td>Fife</td>\n",
              "      <td>Surveyed: 1854&lt;br&gt;Published: 1855</td>\n",
              "      <td>74426819</td>\n",
              "      <td>https://deriv.nls.uk/dcn4/7442/74426819.4.jpg</td>\n",
              "      <td>https://maps.nls.uk/view/74426819</td>\n",
              "      <td>{'gte': 1855, 'lte': 1855}</td>\n",
              "      <td>1855</td>\n",
              "      <td>1855</td>\n",
              "      <td>Fife, Sheet 2</td>\n",
              "      <td>2</td>\n",
              "      <td>002</td>\n",
              "      <td>{'gte': 1854, 'lte': 1854}</td>\n",
              "      <td>1854</td>\n",
              "      <td>1854</td>\n",
              "      <td>{'type': 'Polygon', 'coordinates': [[[-3.03877...</td>\n",
              "    </tr>\n",
              "    <tr>\n",
              "      <th>_source</th>\n",
              "      <td>Fife</td>\n",
              "      <td>Surveyed: 1854&lt;br&gt;Published: 1855</td>\n",
              "      <td>74426823</td>\n",
              "      <td>https://deriv.nls.uk/dcn4/7442/74426823.4.jpg</td>\n",
              "      <td>https://maps.nls.uk/view/74426823</td>\n",
              "      <td>{'gte': 1855, 'lte': 1855}</td>\n",
              "      <td>1855</td>\n",
              "      <td>1855</td>\n",
              "      <td>Fife, Sheet 6</td>\n",
              "      <td>6</td>\n",
              "      <td>006</td>\n",
              "      <td>{'gte': 1854, 'lte': 1854}</td>\n",
              "      <td>1854</td>\n",
              "      <td>1854</td>\n",
              "      <td>{'type': 'Polygon', 'coordinates': [[[-3.03916...</td>\n",
              "    </tr>\n",
              "    <tr>\n",
              "      <th>_source</th>\n",
              "      <td>Forfarshire</td>\n",
              "      <td>Surveyed: 1860&lt;br&gt;Published: 1865</td>\n",
              "      <td>74426926</td>\n",
              "      <td>https://deriv.nls.uk/dcn4/7442/74426926.4.jpg</td>\n",
              "      <td>https://maps.nls.uk/view/74426926</td>\n",
              "      <td>{'gte': 1865, 'lte': 1865}</td>\n",
              "      <td>1865</td>\n",
              "      <td>1865</td>\n",
              "      <td>Forfarshire, Sheet XLIX</td>\n",
              "      <td>XLIX</td>\n",
              "      <td>049</td>\n",
              "      <td>{'gte': 1860, 'lte': 1860}</td>\n",
              "      <td>1860</td>\n",
              "      <td>1860</td>\n",
              "      <td>{'type': 'Polygon', 'coordinates': [[[-3.15865...</td>\n",
              "    </tr>\n",
              "    <tr>\n",
              "      <th>_source</th>\n",
              "      <td>Forfarshire</td>\n",
              "      <td>Surveyed: 1860-1862&lt;br&gt;Published: 1865</td>\n",
              "      <td>74426931</td>\n",
              "      <td>https://deriv.nls.uk/dcn4/7442/74426931.4.jpg</td>\n",
              "      <td>https://maps.nls.uk/view/74426931</td>\n",
              "      <td>{'gte': 1865, 'lte': 1865}</td>\n",
              "      <td>1865</td>\n",
              "      <td>1865</td>\n",
              "      <td>Forfarshire, Sheet LIV</td>\n",
              "      <td>LIV</td>\n",
              "      <td>054</td>\n",
              "      <td>{'gte': 1862, 'lte': 1862}</td>\n",
              "      <td>1862</td>\n",
              "      <td>1862</td>\n",
              "      <td>{'type': 'Polygon', 'coordinates': [[[-3.00192...</td>\n",
              "    </tr>\n",
              "    <tr>\n",
              "      <th>_source</th>\n",
              "      <td>Perthshire</td>\n",
              "      <td>Surveyed: 1861&lt;br&gt;Published: 1867</td>\n",
              "      <td>74428155</td>\n",
              "      <td>https://deriv.nls.uk/dcn4/7442/74428155.4.jpg</td>\n",
              "      <td>https://maps.nls.uk/view/74428155</td>\n",
              "      <td>{'gte': 1867, 'lte': 1867}</td>\n",
              "      <td>1867</td>\n",
              "      <td>1867</td>\n",
              "      <td>Perthshire, Sheet LXXVI</td>\n",
              "      <td>LXXVI</td>\n",
              "      <td>076</td>\n",
              "      <td>{'gte': 1861, 'lte': 1861}</td>\n",
              "      <td>1861</td>\n",
              "      <td>1861</td>\n",
              "      <td>{'type': 'Polygon', 'coordinates': [[[-3.14189...</td>\n",
              "    </tr>\n",
              "    <tr>\n",
              "      <th>_source</th>\n",
              "      <td>Perthshire</td>\n",
              "      <td>Surveyed: 1861&lt;br&gt;Published: 1867</td>\n",
              "      <td>74428167</td>\n",
              "      <td>https://deriv.nls.uk/dcn4/7442/74428167.4.jpg</td>\n",
              "      <td>https://maps.nls.uk/view/74428167</td>\n",
              "      <td>{'gte': 1867, 'lte': 1867}</td>\n",
              "      <td>1867</td>\n",
              "      <td>1867</td>\n",
              "      <td>Perthshire, Sheet LXXXVIII</td>\n",
              "      <td>LXXXVIII</td>\n",
              "      <td>088</td>\n",
              "      <td>{'gte': 1861, 'lte': 1861}</td>\n",
              "      <td>1861</td>\n",
              "      <td>1861</td>\n",
              "      <td>{'type': 'Polygon', 'coordinates': [[[-3.14284...</td>\n",
              "    </tr>\n",
              "    <tr>\n",
              "      <th>_source</th>\n",
              "      <td>Perthshire</td>\n",
              "      <td>Surveyed: 1861&lt;br&gt;Published: 1866</td>\n",
              "      <td>74428179</td>\n",
              "      <td>https://deriv.nls.uk/dcn4/7442/74428179.4.jpg</td>\n",
              "      <td>https://maps.nls.uk/view/74428179</td>\n",
              "      <td>{'gte': 1866, 'lte': 1866}</td>\n",
              "      <td>1866</td>\n",
              "      <td>1866</td>\n",
              "      <td>Perthshire, Sheet C</td>\n",
              "      <td>C</td>\n",
              "      <td>100</td>\n",
              "      <td>{'gte': 1861, 'lte': 1861}</td>\n",
              "      <td>1861</td>\n",
              "      <td>1861</td>\n",
              "      <td>{'type': 'Polygon', 'coordinates': [[[-3.14378...</td>\n",
              "    </tr>\n",
              "    <tr>\n",
              "      <th>_source</th>\n",
              "      <td>Forfarshire</td>\n",
              "      <td>Surveyed: 1858&lt;br&gt;Published: 1865</td>\n",
              "      <td>74426927</td>\n",
              "      <td>https://deriv.nls.uk/dcn4/7442/74426927.4.jpg</td>\n",
              "      <td>https://maps.nls.uk/view/74426927</td>\n",
              "      <td>{'gte': 1865, 'lte': 1865}</td>\n",
              "      <td>1865</td>\n",
              "      <td>1865</td>\n",
              "      <td>Forfarshire, Sheet L</td>\n",
              "      <td>L</td>\n",
              "      <td>050</td>\n",
              "      <td>{'gte': 1858, 'lte': 1858}</td>\n",
              "      <td>1858</td>\n",
              "      <td>1858</td>\n",
              "      <td>{'type': 'Polygon', 'coordinates': [[[-3.00190...</td>\n",
              "    </tr>\n",
              "    <tr>\n",
              "      <th>_source</th>\n",
              "      <td>Forfarshire</td>\n",
              "      <td>Surveyed: 1859&lt;br&gt;Published: 1865</td>\n",
              "      <td>74426930</td>\n",
              "      <td>https://deriv.nls.uk/dcn4/7442/74426930.4.jpg</td>\n",
              "      <td>https://maps.nls.uk/view/74426930</td>\n",
              "      <td>{'gte': 1865, 'lte': 1865}</td>\n",
              "      <td>1865</td>\n",
              "      <td>1865</td>\n",
              "      <td>Forfarshire, Sheet LIII</td>\n",
              "      <td>LIII</td>\n",
              "      <td>053</td>\n",
              "      <td>{'gte': 1859, 'lte': 1859}</td>\n",
              "      <td>1859</td>\n",
              "      <td>1859</td>\n",
              "      <td>{'type': 'Polygon', 'coordinates': [[[-3.15843...</td>\n",
              "    </tr>\n",
              "  </tbody>\n",
              "</table>\n",
              "</div>"
            ],
            "text/plain": [
              "              COUNTY  ...                                           location\n",
              "_source         Fife  ...  {'type': 'Polygon', 'coordinates': [[[-3.03877...\n",
              "_source         Fife  ...  {'type': 'Polygon', 'coordinates': [[[-3.03916...\n",
              "_source  Forfarshire  ...  {'type': 'Polygon', 'coordinates': [[[-3.15865...\n",
              "_source  Forfarshire  ...  {'type': 'Polygon', 'coordinates': [[[-3.00192...\n",
              "_source   Perthshire  ...  {'type': 'Polygon', 'coordinates': [[[-3.14189...\n",
              "_source   Perthshire  ...  {'type': 'Polygon', 'coordinates': [[[-3.14284...\n",
              "_source   Perthshire  ...  {'type': 'Polygon', 'coordinates': [[[-3.14378...\n",
              "_source  Forfarshire  ...  {'type': 'Polygon', 'coordinates': [[[-3.00190...\n",
              "_source  Forfarshire  ...  {'type': 'Polygon', 'coordinates': [[[-3.15843...\n",
              "\n",
              "[9 rows x 15 columns]"
            ]
          },
          "metadata": {
            "tags": []
          },
          "execution_count": 10
        }
      ]
    },
    {
      "cell_type": "markdown",
      "metadata": {
        "id": "VjS2UEX_xuEV",
        "colab_type": "text"
      },
      "source": [
        "The following example shows how to search all the indices in Elastic Search. For each document that matches the search we print out the image ID and the index it belongs to."
      ]
    },
    {
      "cell_type": "code",
      "metadata": {
        "id": "RyKd2jEov4lx",
        "colab_type": "code",
        "outputId": "80fc106a-8c29-4b89-ecad-0d521e43ecbb",
        "colab": {
          "base_uri": "https://localhost:8080/",
          "height": 510
        }
      },
      "source": [
        "for key, index in indices.items():\n",
        "    hits = search_area(index, centre=coordinates['Dundee'], radius=10000)\n",
        "    num_hits = hits['total']['value']\n",
        "    print('{}: {} hits'.format(index, num_hits))\n",
        "    if 'hits' in hits:\n",
        "        for hit in hits['hits']:\n",
        "            print(hit['_source']['IMAGE'])\n",
        "        print()"
      ],
      "execution_count": 0,
      "outputs": [
        {
          "output_type": "stream",
          "text": [
            "07_os_one_inch_1890s_1900s_scotland_lancs_dorset_london: 2 hits\n",
            "74489062\n",
            "74489065\n",
            "\n",
            "04_os_six_inch_scotland_1840s_1880s: 9 hits\n",
            "74426819\n",
            "74426823\n",
            "74426926\n",
            "74426931\n",
            "74428155\n",
            "74428167\n",
            "74428179\n",
            "74426927\n",
            "74426930\n",
            "\n",
            "06_os_one_inch_1850s_1900s_scotland_lancs_dorset_london: 4 hits\n",
            "74489061\n",
            "74489062\n",
            "74489065\n",
            "74489064\n",
            "\n",
            "02_os_town_plans_england_1840s_1890s: 0 hits\n",
            "\n",
            "05_os_six_inch_lancs_dorset_1880s_1890s: 0 hits\n",
            "\n",
            "03_os_25_inch_lancs_dorset_1900s_1940s: 0 hits\n",
            "\n",
            "01_os_town_plans_london_1890s: 0 hits\n",
            "\n"
          ],
          "name": "stdout"
        }
      ]
    }
  ]
}