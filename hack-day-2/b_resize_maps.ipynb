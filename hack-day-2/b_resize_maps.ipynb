{
 "cells": [
  {
   "cell_type": "code",
   "execution_count": 3,
   "metadata": {},
   "outputs": [],
   "source": [
    "from PIL import Image\n",
    "from pathlib import Path\n",
    "import os\n",
    "\n",
    "from azure.storage.blob import BlockBlobService\n",
    "\n"
   ]
  },
  {
   "cell_type": "code",
   "execution_count": 4,
   "metadata": {},
   "outputs": [],
   "source": [
    "block_blob_service = BlockBlobService(account_name='lwmincomingnls', account_key='fBkvBRTYQYx7mK+0MfwctCNRcyeMFOVu+zSfdltw4da69GlUZ8q4nB8wdw7g3p7St1kT1tajkCGXtgmmktNN6Q==')"
   ]
  },
  {
   "cell_type": "code",
   "execution_count": 19,
   "metadata": {},
   "outputs": [
    {
     "name": "stdout",
     "output_type": "stream",
     "text": [
      "\t Blob name: 01_OS_Town_Plans_London_1890s_GeoTIFFs/\n",
      "\t Blob name: 02_OS_Town_Plans_England_1840s_1890s_GeoTIFFs/\n",
      "\t Blob name: 03_OS_25_Inch_Lancs_Dorset_1900s_1940s_GeoTIFFs/\n",
      "\t Blob name: 04_OS_Six_Inch_Scotland_1840s_1880s_GeoTIFFs/\n",
      "\t Blob name: 05_OS_Six_Inch_Lancs_Dorset_1880s_1890s_TIFFs/\n",
      "\t Blob name: 06_OS_One_Inch_Scotland_Lancs_Dorset_London_1850s_1900s_TIFFs/\n",
      "\t Blob name: 07_OS_One_Inch_Scotland_Lancs_Dorset_London_1890s_1900s_GeoTIFFs/\n",
      "\t Blob name: 08_Devon_Goad_Plans_GeoTIFFs/\n",
      "\t Blob name: shapefiles/\n"
     ]
    }
   ],
   "source": [
    "generator = block_blob_service.list_blobs('maps',delimiter='/')\n",
    "for blob in generator:\n",
    "    print(\"\\t Blob name: \" + blob.name)"
   ]
  },
  {
   "cell_type": "code",
   "execution_count": 22,
   "metadata": {},
   "outputs": [],
   "source": [
    "test = 'data/Sample_OS_town_plans_London_1890s_compressed'"
   ]
  },
  {
   "cell_type": "code",
   "execution_count": 23,
   "metadata": {},
   "outputs": [
    {
     "data": {
      "text/plain": [
       "PosixPath('data/Sample_OS_town_plans_London_1890s_compressed')"
      ]
     },
     "execution_count": 23,
     "metadata": {},
     "output_type": "execute_result"
    }
   ],
   "source": [
    "Path(test)"
   ]
  },
  {
   "cell_type": "code",
   "execution_count": 36,
   "metadata": {},
   "outputs": [],
   "source": [
    "files = read_files('data/Sample_OS_town_plans_London_1890s_compressed')"
   ]
  },
  {
   "cell_type": "code",
   "execution_count": 80,
   "metadata": {},
   "outputs": [
    {
     "name": "stdout",
     "output_type": "stream",
     "text": [
      "Sample_OS_town_plans_London_1890s_compressed/101200779.27\n",
      "Sample_OS_town_plans_London_1890s_compressed/101200740.27\n",
      "Sample_OS_town_plans_London_1890s_compressed/101200785.27\n",
      "Sample_OS_town_plans_London_1890s_compressed/101200776.27\n",
      "Sample_OS_town_plans_London_1890s_compressed/101200764.27\n",
      "Sample_OS_town_plans_London_1890s_compressed/101200782.27\n",
      "Sample_OS_town_plans_London_1890s_compressed/101200749.27\n",
      "Sample_OS_town_plans_London_1890s_compressed/101200746.27\n",
      "Sample_OS_town_plans_London_1890s_compressed/101200758.27\n",
      "Sample_OS_town_plans_London_1890s_compressed/101200794.27\n",
      "Sample_OS_town_plans_London_1890s_compressed/101200788.27\n",
      "Sample_OS_town_plans_London_1890s_compressed/101200743.27\n",
      "Sample_OS_town_plans_London_1890s_compressed/101200791.27\n",
      "Sample_OS_town_plans_London_1890s_compressed/101200767.27\n",
      "Sample_OS_town_plans_London_1890s_compressed/101200770.27\n",
      "Sample_OS_town_plans_London_1890s_compressed/101200773.27\n",
      "Sample_OS_town_plans_London_1890s_compressed/101200755.27\n",
      "Sample_OS_town_plans_London_1890s_compressed/101200761.27\n",
      "Sample_OS_town_plans_London_1890s_compressed/101200797.27\n",
      "Sample_OS_town_plans_London_1890s_compressed/101200752.27\n"
     ]
    }
   ],
   "source": [
    "images = files\n",
    "for image in images:\n",
    "        _, directory,_ = Path(image).parts\n",
    "        name = Path(image).stem\n",
    "        out_files = directory + \"/\" + name\n",
    "        print(out_files)\n",
    "out_dir = Path(directory+'_compressed_'+ str('ext')).mkdir()"
   ]
  },
  {
   "cell_type": "code",
   "execution_count": 136,
   "metadata": {},
   "outputs": [],
   "source": [
    "def read_files(path):\n",
    "    p = Path(path).rglob('*.jpg') \n",
    "    images = [x for x in p if x.is_file()]\n",
    "    return images\n",
    "\n",
    "# Restrict file size to 1000KB\n",
    "def file_size(image):\n",
    "    statinfo = os.stat(image)\n",
    "    file_size = statinfo.st_size\n",
    "    return file_size\n",
    "\n",
    "# restrict file size to 1000kb\n",
    "def resize_image(images, out_dir, ext='.jpg'):\n",
    "    for image in images:\n",
    "        name = Path(image).stem\n",
    "        out_file = Path(str(out_dir)+\"/\" + str(name) + str(ext))\n",
    "        im = Image.open(image)\n",
    "        im.save(out_file, quality=40, optimize=True)\n",
    "        size = file_size(Path(out_file))\n",
    "        if size > 950000:\n",
    "             #  print(f'{f_name} too big')\n",
    "            im.save(out_file, quality=20, optimize=True) \n",
    "        else:\n",
    "                continue"
   ]
  },
  {
   "cell_type": "code",
   "execution_count": 141,
   "metadata": {},
   "outputs": [],
   "source": [
    "def main(path, ext='.jpg'):\n",
    "    *_,directory = Path(path).parts\n",
    "    Path(directory+'_compressed_'+ str(ext.strip('.'))).mkdir(exist_ok=True)\n",
    "    out_dir = Path(directory+'_compressed_'+ str(ext.strip('.')))\n",
    "    images = read_files(path)\n",
    "    resize_image(images,out_dir, ext)"
   ]
  }
 ],
 "metadata": {
  "kernelspec": {
   "display_name": "Python (fastai)",
   "language": "python",
   "name": "fastai"
  },
  "language_info": {
   "codemirror_mode": {
    "name": "ipython",
    "version": 3
   },
   "file_extension": ".py",
   "mimetype": "text/x-python",
   "name": "python",
   "nbconvert_exporter": "python",
   "pygments_lexer": "ipython3",
   "version": "3.6.8"
  }
 },
 "nbformat": 4,
 "nbformat_minor": 2
}
